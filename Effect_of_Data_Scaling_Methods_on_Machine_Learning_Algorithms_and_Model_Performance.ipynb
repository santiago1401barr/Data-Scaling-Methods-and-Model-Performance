{
  "cells": [
    {
      "cell_type": "markdown",
      "metadata": {
        "id": "6TTSfF9alnXG"
      },
      "source": [
        "### Installing and importing the necessary libraries"
      ]
    },
    {
      "cell_type": "code",
      "execution_count": null,
      "metadata": {
        "colab": {
          "base_uri": "https://localhost:8080/"
        },
        "id": "hmVoxFEjVe2O",
        "outputId": "c61e0067-e06c-4e9b-9a1b-3976b3c8c845"
      },
      "outputs": [
        {
          "name": "stdout",
          "output_type": "stream",
          "text": [
            "Collecting pingouin\n",
            "  Downloading pingouin-0.5.4-py2.py3-none-any.whl (198 kB)\n",
            "\u001b[?25l     \u001b[90m━━━━━━━━━━━━━━━━━━━━━━━━━━━━━━━━━━━━━━━━\u001b[0m \u001b[32m0.0/198.9 kB\u001b[0m \u001b[31m?\u001b[0m eta \u001b[36m-:--:--\u001b[0m\r\u001b[2K     \u001b[91m━━━━━━━━━━━━\u001b[0m\u001b[90m╺\u001b[0m\u001b[90m━━━━━━━━━━━━━━━━━━━━━━━━━━━\u001b[0m \u001b[32m61.4/198.9 kB\u001b[0m \u001b[31m1.7 MB/s\u001b[0m eta \u001b[36m0:00:01\u001b[0m\r\u001b[2K     \u001b[90m━━━━━━━━━━━━━━━━━━━━━━━━━━━━━━━━━━━━━━━━\u001b[0m \u001b[32m198.9/198.9 kB\u001b[0m \u001b[31m2.7 MB/s\u001b[0m eta \u001b[36m0:00:00\u001b[0m\n",
            "\u001b[?25hRequirement already satisfied: numpy in /usr/local/lib/python3.10/dist-packages (from pingouin) (1.25.2)\n",
            "Requirement already satisfied: scipy in /usr/local/lib/python3.10/dist-packages (from pingouin) (1.11.4)\n",
            "Requirement already satisfied: pandas>=1.5 in /usr/local/lib/python3.10/dist-packages (from pingouin) (2.0.3)\n",
            "Requirement already satisfied: matplotlib in /usr/local/lib/python3.10/dist-packages (from pingouin) (3.7.1)\n",
            "Requirement already satisfied: seaborn in /usr/local/lib/python3.10/dist-packages (from pingouin) (0.13.1)\n",
            "Requirement already satisfied: statsmodels in /usr/local/lib/python3.10/dist-packages (from pingouin) (0.14.2)\n",
            "Requirement already satisfied: scikit-learn in /usr/local/lib/python3.10/dist-packages (from pingouin) (1.2.2)\n",
            "Collecting pandas-flavor (from pingouin)\n",
            "  Downloading pandas_flavor-0.6.0-py3-none-any.whl (7.2 kB)\n",
            "Requirement already satisfied: tabulate in /usr/local/lib/python3.10/dist-packages (from pingouin) (0.9.0)\n",
            "Requirement already satisfied: python-dateutil>=2.8.2 in /usr/local/lib/python3.10/dist-packages (from pandas>=1.5->pingouin) (2.8.2)\n",
            "Requirement already satisfied: pytz>=2020.1 in /usr/local/lib/python3.10/dist-packages (from pandas>=1.5->pingouin) (2023.4)\n",
            "Requirement already satisfied: tzdata>=2022.1 in /usr/local/lib/python3.10/dist-packages (from pandas>=1.5->pingouin) (2024.1)\n",
            "Requirement already satisfied: contourpy>=1.0.1 in /usr/local/lib/python3.10/dist-packages (from matplotlib->pingouin) (1.2.1)\n",
            "Requirement already satisfied: cycler>=0.10 in /usr/local/lib/python3.10/dist-packages (from matplotlib->pingouin) (0.12.1)\n",
            "Requirement already satisfied: fonttools>=4.22.0 in /usr/local/lib/python3.10/dist-packages (from matplotlib->pingouin) (4.53.0)\n",
            "Requirement already satisfied: kiwisolver>=1.0.1 in /usr/local/lib/python3.10/dist-packages (from matplotlib->pingouin) (1.4.5)\n",
            "Requirement already satisfied: packaging>=20.0 in /usr/local/lib/python3.10/dist-packages (from matplotlib->pingouin) (24.1)\n",
            "Requirement already satisfied: pillow>=6.2.0 in /usr/local/lib/python3.10/dist-packages (from matplotlib->pingouin) (9.4.0)\n",
            "Requirement already satisfied: pyparsing>=2.3.1 in /usr/local/lib/python3.10/dist-packages (from matplotlib->pingouin) (3.1.2)\n",
            "Requirement already satisfied: xarray in /usr/local/lib/python3.10/dist-packages (from pandas-flavor->pingouin) (2023.7.0)\n",
            "Requirement already satisfied: joblib>=1.1.1 in /usr/local/lib/python3.10/dist-packages (from scikit-learn->pingouin) (1.4.2)\n",
            "Requirement already satisfied: threadpoolctl>=2.0.0 in /usr/local/lib/python3.10/dist-packages (from scikit-learn->pingouin) (3.5.0)\n",
            "Requirement already satisfied: patsy>=0.5.6 in /usr/local/lib/python3.10/dist-packages (from statsmodels->pingouin) (0.5.6)\n",
            "Requirement already satisfied: six in /usr/local/lib/python3.10/dist-packages (from patsy>=0.5.6->statsmodels->pingouin) (1.16.0)\n",
            "Installing collected packages: pandas-flavor, pingouin\n",
            "Successfully installed pandas-flavor-0.6.0 pingouin-0.5.4\n"
          ]
        }
      ],
      "source": [
        "pip install pingouin"
      ]
    },
    {
      "cell_type": "code",
      "execution_count": null,
      "metadata": {
        "colab": {
          "background_save": true
        },
        "id": "rR6wA4HEOGUB"
      },
      "outputs": [],
      "source": [
        "import numpy as np\n",
        "import pandas as pd\n",
        "import seaborn as sns\n",
        "from sklearn import tree\n",
        "from sklearn.svm import SVC\n",
        "import matplotlib.pyplot as plt\n",
        "from sklearn.pipeline import Pipeline\n",
        "from sklearn.impute import KNNImputer\n",
        "from xgboost import XGBClassifier\n",
        "from pingouin import multivariate_normality\n",
        "from sklearn.naive_bayes import GaussianNB\n",
        "from sklearn.tree import DecisionTreeClassifier\n",
        "from sklearn.neighbors import KNeighborsClassifier\n",
        "from sklearn.linear_model import LogisticRegression\n",
        "from sklearn.model_selection import train_test_split\n",
        "from sklearn.ensemble import RandomForestClassifier, AdaBoostClassifier, GradientBoostingClassifier, ExtraTreesClassifier, IsolationForest\n",
        "from sklearn.discriminant_analysis import LinearDiscriminantAnalysis\n",
        "from sklearn.metrics import accuracy_score, precision_score, recall_score, f1_score"
      ]
    },
    {
      "cell_type": "markdown",
      "metadata": {
        "id": "fNC3LlqClw1S"
      },
      "source": [
        "### Installing the data"
      ]
    },
    {
      "cell_type": "markdown",
      "metadata": {
        "id": "-J1nKghRDSiF"
      },
      "source": [
        "https://www.kaggle.com/datasets/johnsmith88/heart-disease-dataset"
      ]
    },
    {
      "cell_type": "code",
      "execution_count": null,
      "metadata": {
        "colab": {
          "background_save": true
        },
        "id": "n2DuP1CxmRKC",
        "outputId": "833d6678-0140-4247-e55a-dc6246e57956"
      },
      "outputs": [
        {
          "name": "stdout",
          "output_type": "stream",
          "text": [
            "     age     sex        dataset               cp  trestbps   chol    fbs  \\\n",
            "0     63    Male      Cleveland   typical angina     145.0  233.0   True   \n",
            "1     67    Male      Cleveland     asymptomatic     160.0  286.0  False   \n",
            "2     67    Male      Cleveland     asymptomatic     120.0  229.0  False   \n",
            "3     37    Male      Cleveland      non-anginal     130.0  250.0  False   \n",
            "4     41  Female      Cleveland  atypical angina     130.0  204.0  False   \n",
            "..   ...     ...            ...              ...       ...    ...    ...   \n",
            "915   54  Female  VA Long Beach     asymptomatic     127.0  333.0   True   \n",
            "916   62    Male  VA Long Beach   typical angina       NaN  139.0  False   \n",
            "917   55    Male  VA Long Beach     asymptomatic     122.0  223.0   True   \n",
            "918   58    Male  VA Long Beach     asymptomatic       NaN  385.0   True   \n",
            "919   62    Male  VA Long Beach  atypical angina     120.0  254.0  False   \n",
            "\n",
            "              restecg  thalch  exang  oldpeak        slope   ca  \\\n",
            "0      lv hypertrophy   150.0  False      2.3  downsloping  0.0   \n",
            "1      lv hypertrophy   108.0   True      1.5         flat  3.0   \n",
            "2      lv hypertrophy   129.0   True      2.6         flat  2.0   \n",
            "3              normal   187.0  False      3.5  downsloping  0.0   \n",
            "4      lv hypertrophy   172.0  False      1.4    upsloping  0.0   \n",
            "..                ...     ...    ...      ...          ...  ...   \n",
            "915  st-t abnormality   154.0  False      0.0          NaN  NaN   \n",
            "916  st-t abnormality     NaN    NaN      NaN          NaN  NaN   \n",
            "917  st-t abnormality   100.0  False      0.0          NaN  NaN   \n",
            "918    lv hypertrophy     NaN    NaN      NaN          NaN  NaN   \n",
            "919    lv hypertrophy    93.0   True      0.0          NaN  NaN   \n",
            "\n",
            "                  thal  num  \n",
            "0         fixed defect    0  \n",
            "1               normal    2  \n",
            "2    reversable defect    1  \n",
            "3               normal    0  \n",
            "4               normal    0  \n",
            "..                 ...  ...  \n",
            "915                NaN    1  \n",
            "916                NaN    0  \n",
            "917       fixed defect    2  \n",
            "918                NaN    0  \n",
            "919                NaN    1  \n",
            "\n",
            "[920 rows x 15 columns]\n"
          ]
        }
      ],
      "source": [
        "data = pd.read_csv('/content/heart_disease_uci.csv', delimiter=',')\n",
        "data = data.drop(data.columns[0], axis=1)\n",
        "print(data)"
      ]
    },
    {
      "cell_type": "markdown",
      "metadata": {
        "id": "n4jw0NjBbNCb"
      },
      "source": [
        "# Data Preprocessing"
      ]
    },
    {
      "cell_type": "markdown",
      "metadata": {
        "id": "Dr0qgvmWPRPu"
      },
      "source": [
        "## Data Transformation"
      ]
    },
    {
      "cell_type": "code",
      "execution_count": null,
      "metadata": {
        "colab": {
          "background_save": true
        },
        "id": "5uA_t2cVOaN2",
        "outputId": "010d1f2c-245c-4534-efb8-5a46868bb62b"
      },
      "outputs": [
        {
          "data": {
            "text/plain": [
              "age           0\n",
              "sex           0\n",
              "dataset       0\n",
              "cp            0\n",
              "trestbps     59\n",
              "chol         30\n",
              "fbs          90\n",
              "restecg       2\n",
              "thalch       55\n",
              "exang        55\n",
              "oldpeak      62\n",
              "slope       309\n",
              "ca          611\n",
              "thal        486\n",
              "num           0\n",
              "dtype: int64"
            ]
          },
          "execution_count": 4,
          "metadata": {},
          "output_type": "execute_result"
        }
      ],
      "source": [
        "data.isnull().sum()"
      ]
    },
    {
      "cell_type": "markdown",
      "metadata": {
        "id": "PiDNlqUMPv20"
      },
      "source": [
        "There is a lot of null data. Later we are going to evaluate what technique to use to solve this problem."
      ]
    },
    {
      "cell_type": "code",
      "execution_count": null,
      "metadata": {
        "colab": {
          "background_save": true
        },
        "id": "oWgQIk2kOaRJ",
        "outputId": "3c0147f3-fb4e-456c-af84-c8984ec8bb83"
      },
      "outputs": [
        {
          "data": {
            "text/plain": [
              "age           int64\n",
              "sex          object\n",
              "dataset      object\n",
              "cp           object\n",
              "trestbps    float64\n",
              "chol        float64\n",
              "fbs          object\n",
              "restecg      object\n",
              "thalch      float64\n",
              "exang        object\n",
              "oldpeak     float64\n",
              "slope        object\n",
              "ca          float64\n",
              "thal         object\n",
              "num           int64\n",
              "dtype: object"
            ]
          },
          "execution_count": 5,
          "metadata": {},
          "output_type": "execute_result"
        }
      ],
      "source": [
        "data.dtypes"
      ]
    },
    {
      "cell_type": "markdown",
      "metadata": {
        "id": "Ww_Yx-ylICUW"
      },
      "source": [
        "As the dataset used in this project is different than the one in the study"
      ]
    },
    {
      "cell_type": "code",
      "execution_count": null,
      "metadata": {
        "colab": {
          "background_save": true
        },
        "id": "Opv68dTVxo4E"
      },
      "outputs": [],
      "source": [
        "categorical_cols = data.select_dtypes(include=['object']).columns.tolist()\n",
        "continuous_cols  = data.select_dtypes(include=['int64','float64']).columns.tolist()"
      ]
    },
    {
      "cell_type": "markdown",
      "metadata": {
        "id": "AG_rZQ5aQqcs"
      },
      "source": [
        "We need to transform the object type data to numerical type data in order to create the models we are going to compare. The transformations used are the same showed in the sistematic reviwe made by Ahsan et al.(2021)"
      ]
    },
    {
      "cell_type": "code",
      "execution_count": null,
      "metadata": {
        "colab": {
          "background_save": true
        },
        "id": "TZvVSQkCOaWz",
        "outputId": "e409eb3f-1aaa-4f3e-cf17-f743ba10cef1"
      },
      "outputs": [
        {
          "data": {
            "text/plain": [
              "array(['Male', 'Female'], dtype=object)"
            ]
          },
          "execution_count": 7,
          "metadata": {},
          "output_type": "execute_result"
        }
      ],
      "source": [
        "data['sex'].unique()"
      ]
    },
    {
      "cell_type": "code",
      "execution_count": null,
      "metadata": {
        "colab": {
          "background_save": true
        },
        "id": "T-6NpNzYVppc"
      },
      "outputs": [],
      "source": [
        "sex_replacing = {'Male': 1, 'Female': 0}\n",
        "data['sex'] = data['sex'].replace(sex_replacing)"
      ]
    },
    {
      "cell_type": "code",
      "execution_count": null,
      "metadata": {
        "colab": {
          "background_save": true
        },
        "id": "nm1N0IqmVYKz"
      },
      "outputs": [],
      "source": [
        "#In the Sistematic Review, the column \"dataset\" isnt included in the attributes used, so, we are going to discard it\n",
        "data = data.drop(\"dataset\",axis = 1)"
      ]
    },
    {
      "cell_type": "code",
      "execution_count": null,
      "metadata": {
        "colab": {
          "background_save": true,
          "base_uri": "https://localhost:8080/"
        },
        "id": "f7AQZ4GjW1GJ",
        "outputId": "68ad3297-1fb3-4ac4-deca-7fadcc928d3e"
      },
      "outputs": [
        {
          "data": {
            "text/plain": [
              "array(['typical angina', 'asymptomatic', 'non-anginal', 'atypical angina'],\n",
              "      dtype=object)"
            ]
          },
          "execution_count": 10,
          "metadata": {},
          "output_type": "execute_result"
        }
      ],
      "source": [
        "data['cp'].unique()"
      ]
    },
    {
      "cell_type": "code",
      "execution_count": null,
      "metadata": {
        "colab": {
          "background_save": true
        },
        "id": "k-MJQkvKW6Sd"
      },
      "outputs": [],
      "source": [
        "chest_pain_replacing = {'typical angina': 1, 'non-anginal' : 3, 'atypical angina' : 2, 'asymptomatic': 4}\n",
        "data['cp'] = data['cp'].replace(chest_pain_replacing)"
      ]
    },
    {
      "cell_type": "code",
      "execution_count": null,
      "metadata": {
        "colab": {
          "background_save": true
        },
        "id": "3ObuXpYYl7yv",
        "outputId": "164e3faa-468f-4512-d8f6-7e127a69f1ba"
      },
      "outputs": [
        {
          "data": {
            "text/plain": [
              "array([True, False, nan], dtype=object)"
            ]
          },
          "execution_count": 12,
          "metadata": {},
          "output_type": "execute_result"
        }
      ],
      "source": [
        "data['fbs'].unique()"
      ]
    },
    {
      "cell_type": "code",
      "execution_count": null,
      "metadata": {
        "colab": {
          "background_save": true
        },
        "id": "AwZY6rjIzO5r"
      },
      "outputs": [],
      "source": [
        "def convert_true_false_value(value):\n",
        "    if value is True:\n",
        "        return 1\n",
        "    elif value is False:\n",
        "        return 0\n",
        "    else:\n",
        "        return np.nan"
      ]
    },
    {
      "cell_type": "code",
      "execution_count": null,
      "metadata": {
        "colab": {
          "background_save": true
        },
        "id": "beDnceEz35gi"
      },
      "outputs": [],
      "source": [
        "data['fbs'] = data['fbs'].apply(convert_true_false_value)"
      ]
    },
    {
      "cell_type": "code",
      "execution_count": null,
      "metadata": {
        "colab": {
          "background_save": true
        },
        "id": "uY9yYD0fz_dA",
        "outputId": "0bc5a33a-bc04-4aea-eba8-0eb0acb51685"
      },
      "outputs": [
        {
          "data": {
            "text/plain": [
              "array(['lv hypertrophy', 'normal', 'st-t abnormality', nan], dtype=object)"
            ]
          },
          "execution_count": 15,
          "metadata": {},
          "output_type": "execute_result"
        }
      ],
      "source": [
        "data['restecg'].unique()"
      ]
    },
    {
      "cell_type": "code",
      "execution_count": null,
      "metadata": {
        "colab": {
          "background_save": true
        },
        "id": "yPg-l_6mzlnR"
      },
      "outputs": [],
      "source": [
        "rest_elect_results = {'lv hypertrophy': 2, 'normal' : 0, 'st-t abnormality' : 1}\n",
        "data['restecg'] = data['restecg'].replace(rest_elect_results)"
      ]
    },
    {
      "cell_type": "code",
      "execution_count": null,
      "metadata": {
        "colab": {
          "background_save": true
        },
        "id": "_3g0CxbU29uS",
        "outputId": "47d0dfc8-7a4b-46b8-cd18-f7fa5c82a4bb"
      },
      "outputs": [
        {
          "data": {
            "text/plain": [
              "array([False, True, nan], dtype=object)"
            ]
          },
          "execution_count": 17,
          "metadata": {},
          "output_type": "execute_result"
        }
      ],
      "source": [
        "data['exang'].unique()"
      ]
    },
    {
      "cell_type": "code",
      "execution_count": null,
      "metadata": {
        "colab": {
          "background_save": true
        },
        "id": "xEhc1TtI5ET2"
      },
      "outputs": [],
      "source": [
        "data['exang'] = data['exang'].apply(convert_true_false_value)"
      ]
    },
    {
      "cell_type": "code",
      "execution_count": null,
      "metadata": {
        "colab": {
          "background_save": true
        },
        "id": "adETbXhX5HxN",
        "outputId": "cb6f5e9e-d3cc-4fc4-d8e4-732d76ea434f"
      },
      "outputs": [
        {
          "data": {
            "text/plain": [
              "array(['downsloping', 'flat', 'upsloping', nan], dtype=object)"
            ]
          },
          "execution_count": 19,
          "metadata": {},
          "output_type": "execute_result"
        }
      ],
      "source": [
        "data['slope'].unique()"
      ]
    },
    {
      "cell_type": "code",
      "execution_count": null,
      "metadata": {
        "colab": {
          "background_save": true
        },
        "id": "ni6Hf-JY5Hz2"
      },
      "outputs": [],
      "source": [
        "slope_peak = {'downsloping': 3, 'flat' : 2, 'upsloping' : 1}\n",
        "data['slope'] = data['slope'].replace(slope_peak)"
      ]
    },
    {
      "cell_type": "code",
      "execution_count": null,
      "metadata": {
        "colab": {
          "background_save": true
        },
        "id": "hDdx2rB_5H2E",
        "outputId": "ef2ef4e6-9a6a-4000-85c2-3fd5cdf1dc60"
      },
      "outputs": [
        {
          "data": {
            "text/plain": [
              "array(['fixed defect', 'normal', 'reversable defect', nan], dtype=object)"
            ]
          },
          "execution_count": 21,
          "metadata": {},
          "output_type": "execute_result"
        }
      ],
      "source": [
        "data['thal'].unique()"
      ]
    },
    {
      "cell_type": "code",
      "execution_count": null,
      "metadata": {
        "colab": {
          "background_save": true
        },
        "id": "NVexXEqB5H4j"
      },
      "outputs": [],
      "source": [
        "type_defect = {'fixed defect': 6, 'normal' : 3, 'reversable defect' : 7}\n",
        "data['thal'] = data['thal'].replace(type_defect)"
      ]
    },
    {
      "cell_type": "code",
      "execution_count": null,
      "metadata": {
        "colab": {
          "background_save": true
        },
        "id": "N2DlMhgvIOut",
        "outputId": "176ee551-985d-41e0-bda5-41ba4aea6729"
      },
      "outputs": [
        {
          "name": "stdout",
          "output_type": "stream",
          "text": [
            "     age  sex  cp  trestbps   chol  fbs  restecg  thalch  exang  oldpeak  \\\n",
            "0     63    1   1     145.0  233.0  1.0      2.0   150.0    0.0      2.3   \n",
            "1     67    1   4     160.0  286.0  0.0      2.0   108.0    1.0      1.5   \n",
            "2     67    1   4     120.0  229.0  0.0      2.0   129.0    1.0      2.6   \n",
            "3     37    1   3     130.0  250.0  0.0      0.0   187.0    0.0      3.5   \n",
            "4     41    0   2     130.0  204.0  0.0      2.0   172.0    0.0      1.4   \n",
            "..   ...  ...  ..       ...    ...  ...      ...     ...    ...      ...   \n",
            "915   54    0   4     127.0  333.0  1.0      1.0   154.0    0.0      0.0   \n",
            "916   62    1   1       NaN  139.0  0.0      1.0     NaN    NaN      NaN   \n",
            "917   55    1   4     122.0  223.0  1.0      1.0   100.0    0.0      0.0   \n",
            "918   58    1   4       NaN  385.0  1.0      2.0     NaN    NaN      NaN   \n",
            "919   62    1   2     120.0  254.0  0.0      2.0    93.0    1.0      0.0   \n",
            "\n",
            "     slope   ca  thal  num  \n",
            "0      3.0  0.0   6.0    0  \n",
            "1      2.0  3.0   3.0    2  \n",
            "2      2.0  2.0   7.0    1  \n",
            "3      3.0  0.0   3.0    0  \n",
            "4      1.0  0.0   3.0    0  \n",
            "..     ...  ...   ...  ...  \n",
            "915    NaN  NaN   NaN    1  \n",
            "916    NaN  NaN   NaN    0  \n",
            "917    NaN  NaN   6.0    2  \n",
            "918    NaN  NaN   NaN    0  \n",
            "919    NaN  NaN   NaN    1  \n",
            "\n",
            "[920 rows x 14 columns]\n"
          ]
        }
      ],
      "source": [
        "print(data)"
      ]
    },
    {
      "cell_type": "code",
      "execution_count": null,
      "metadata": {
        "colab": {
          "background_save": true
        },
        "id": "7rx2YRAQ_2L_",
        "outputId": "b3e94923-ea5c-48c3-ba6e-a0d0f4a2a421"
      },
      "outputs": [
        {
          "data": {
            "text/plain": [
              "age           int64\n",
              "sex           int64\n",
              "cp            int64\n",
              "trestbps    float64\n",
              "chol        float64\n",
              "fbs         float64\n",
              "restecg     float64\n",
              "thalch      float64\n",
              "exang       float64\n",
              "oldpeak     float64\n",
              "slope       float64\n",
              "ca          float64\n",
              "thal        float64\n",
              "num           int64\n",
              "dtype: object"
            ]
          },
          "execution_count": 24,
          "metadata": {},
          "output_type": "execute_result"
        }
      ],
      "source": [
        "data.dtypes"
      ]
    },
    {
      "cell_type": "code",
      "execution_count": null,
      "metadata": {
        "colab": {
          "background_save": true
        },
        "id": "7OUJzi2Ibsp0",
        "outputId": "12fcd9f6-b63c-4b4a-9f1c-c95ecdbb7714"
      },
      "outputs": [
        {
          "data": {
            "image/png": "[encoded data removed]",
            "text/plain": [
              "<Figure size 1000x1000 with 2 Axes>"
            ]
          },
          "metadata": {},
          "output_type": "display_data"
        }
      ],
      "source": [
        "plt.figure(figsize=(10,10))\n",
        "cor = data.corr()\n",
        "sns.heatmap(cor, annot=True, cmap=plt.cm.PuBu)\n",
        "plt.show()"
      ]
    },
    {
      "cell_type": "code",
      "execution_count": null,
      "metadata": {
        "colab": {
          "background_save": true
        },
        "id": "bHvg3dBrbstX"
      },
      "outputs": [],
      "source": [
        "#Function for the metrics\n",
        "def calculate_metrics_clasification(y_test, predictions):\n",
        "    '''\n",
        "    y_test:- ground truth\n",
        "    predictions:- model predict\n",
        "    '''\n",
        "\n",
        "    accuraccy = accuracy_score(y_test, predictions)\n",
        "    precision = precision_score(y_test, predictions, average='macro')\n",
        "    recall = recall_score(y_test, predictions, average='macro')\n",
        "    f1 = f1_score(y_test, predictions, average='macro')\n",
        "\n",
        "    print(\"Accuraccy Score: \", accuraccy)\n",
        "    print(\"Precision Score: \", precision)\n",
        "    print(\"Recall Score: \", recall)\n",
        "    print(\"F1 Score: \", f1)"
      ]
    },
    {
      "cell_type": "markdown",
      "metadata": {
        "id": "dpgh9hm8L-i-"
      },
      "source": [
        "## Data Cleaning"
      ]
    },
    {
      "cell_type": "markdown",
      "metadata": {
        "id": "vLg2n2u4We8l"
      },
      "source": [
        "In the phase of Data Transformation we can see there is not weird instances in the data, just missing values, which can create bias, making it harder to reach significant results and hinder the use of statistical methods like principal component analysis, clustering, regression analysis , etc..\n",
        "\n",
        "Standard statistical strategies for dealing with missing data include deleting subjects with missing values, employing likelihood-based methods, data augmentation, and imputation (Austin et al., 2021; Tanner et al., 1987).\n",
        "\n",
        "Because in this project we are using a different dataset compared to the one in the study (which has no null data), we are going to analyze the viability of many methods and techniques to these purpose , principally, we are going to analyze three of the most common methods, litwise deletion, simple imputation, Regression and KNN (K-Nearest Neighbors) imputation."
      ]
    },
    {
      "cell_type": "markdown",
      "metadata": {
        "id": "bmuDHUaObIby"
      },
      "source": [
        "### Listwise Deletion Method"
      ]
    },
    {
      "cell_type": "markdown",
      "metadata": {
        "id": "lw-TZJTucd-j"
      },
      "source": [
        "The Listwise Deletion Method is the most common method to handle missing data, consists in deleting all instances that have missing data. This implies that if a case lacks a value for any variable, it is completely removed from the analysis (Statistics Solutions, 2020).\n",
        "\n",
        "The disavantage of this method is that can reduce the sample size significantly if several variables have missing values or a large number of missing values exist across the different variables. This loss of data can affect and weaken the the stasticial validity of the models and biased conclusions (Scheffer, 2002).\n",
        "\n",
        "We can observe that the variables in the columns \"slope\", \"ca\" and \"thal\" have hundreds of missing values, so eliminating those is going to erase most of the data. Therefore, this method will be not used in this project."
      ]
    },
    {
      "cell_type": "markdown",
      "metadata": {
        "id": "A5KYZxU6av3V"
      },
      "source": [
        "### Simple Imputation methods"
      ]
    },
    {
      "cell_type": "markdown",
      "metadata": {
        "id": "XDiPTPS1Rw1O"
      },
      "source": [
        "Simple Imputation methods consist of replace the missing value pf the mean, median or the mode.However, this strategy reduces the variability of the data or necessitates parametric assumptions about the data, such as normality (Van Buuren et al., 2000).\n",
        "\n",
        "Therefore, we are going to apply a normality test to our data set in order to analyze if it is viable or not to use Mean/Median/Mode Imputation method to manage our null data.\n",
        "\n",
        "The normal distribution illustrates how things can happen by chance. In other words, there are events or occurrences that can happen more frequently than others. In the middle is the most common value, known as the average. As you move away from the average, occurrences become less frequent and more predictable (Burkardt, 2014).![image.png](data:image/png;base64,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)"
      ]
    },
    {
      "cell_type": "markdown",
      "metadata": {
        "id": "h9aGptMYVGB6"
      },
      "source": [
        "Taking into account that our data set is multivariate, using univariate normality tests such as Shapiro-Wilk is not totally appropriate, therefore, the Henze-Zirkler test seems more appropiate, which is a statistical test that determines the multivariate normality of a data set. It uses a random data sample and is one of the most consistent methods for assessing the normality of multivariate data sets (Flegel & Bennett, 2020)."
      ]
    },
    {
      "cell_type": "code",
      "execution_count": null,
      "metadata": {
        "colab": {
          "base_uri": "https://localhost:8080/"
        },
        "id": "WLU61OxK2G3q",
        "outputId": "3cd04911-db98-4bfa-cae2-476f8accd608"
      },
      "outputs": [
        {
          "data": {
            "text/plain": [
              "HZResults(hz=1.2372718463601735, pval=0.0, normal=False)"
            ]
          },
          "execution_count": 27,
          "metadata": {},
          "output_type": "execute_result"
        }
      ],
      "source": [
        "multivariate_normality(data, alpha=0.05)"
      ]
    },
    {
      "cell_type": "markdown",
      "metadata": {
        "id": "Sl-NfpOEV528"
      },
      "source": [
        "*   H0 (Null Hypothesis): The variables follow a multivariate normal distribution\n",
        "\n",
        "*   H0 (Null Hypothesis): The variables follow a multivariate normal distribution\n",
        "\n",
        "With a confidence level of 95%, there is sufficient statistical evidence to reject the null hypothesis, therefore, it can be stated that the data probably do not follow a normal distribution. So, it is not appropriate to apply data imputation methods (or any other methods for another purpose) that require that the data follow an approximation of a normal distribution."
      ]
    },
    {
      "cell_type": "markdown",
      "metadata": {
        "id": "_jZhRfMW4TKW"
      },
      "source": [
        "### Regression based methods"
      ]
    },
    {
      "cell_type": "markdown",
      "metadata": {
        "id": "l-rS_gsN4oJg"
      },
      "source": [
        "Regression-based approaches are a sophisticated method that employ information from several variables to fill in missing data by predicting missing values based on previously observed values. Essentially, they build a prediction model to anticipate what the missing numbers should be based on patterns observed in current data (Little et al., 1989). However, regression imputation is a preferred method to use when more than 5% of the data is missing (Rubin et al., 2007). Therefore, for this project, this method would be also not included because the missing data is a lot more that 5% of the total data.\n",
        "\n"
      ]
    },
    {
      "cell_type": "markdown",
      "metadata": {
        "id": "AKlbGuXGwa4V"
      },
      "source": [
        "### KNN (K-Nearest Neighbors) Imputation"
      ]
    },
    {
      "cell_type": "markdown",
      "metadata": {
        "id": "XFmZIoc10h9b"
      },
      "source": [
        "The KNN imputation technique is one of the most popular because it is simple and at the same time effective in filling in missing information in a data set. This approach attempts to find the K closest subjects and fills the missing data with the weighted average value of the observed values ​​of these neighbors (Liao et al., 2014).\n",
        "\n",
        "The biggest disadvantage of this imputation method is that it searches for the instances with the greatest similarity and to do so, the algorithm must search the entire data set. This disadvantage affects especially when used on a huge data set (García et al. , 2008).\n",
        "\n",
        "Despite this disavantage,iIn the Systematic Review carried out by Ismail et al. (2022) it was found that KNN is the most used algorithm for the purpose of imputation of missing values. With the ability to handle any type and scale of data, in addition to efficiently processing any data set, regardless of sample size. Additionally, it outperformed other imputation methods, such as support vector machine, naïve Bayes, decision tree, and self-organizing maps (SOM).\n",
        "\n",
        "From the above it follows that KNN will be the missing data handling method that will be used for this project."
      ]
    },
    {
      "cell_type": "markdown",
      "metadata": {
        "id": "Xb6WfVpkiIpu"
      },
      "source": [
        "#### Aplication of KNN Imputation method"
      ]
    },
    {
      "cell_type": "code",
      "execution_count": null,
      "metadata": {
        "id": "rghcvijK2QT2"
      },
      "outputs": [],
      "source": [
        "categorical_cols.remove('dataset')\n",
        "data_categorical = data[categorical_cols]\n",
        "data_continuous = data[continuous_cols]"
      ]
    },
    {
      "cell_type": "code",
      "execution_count": null,
      "metadata": {
        "id": "mmF-rj1_hlw6"
      },
      "outputs": [],
      "source": [
        "def impute_categorical_knn(data):\n",
        "    knn_imputer = KNNImputer(n_neighbors=5)\n",
        "    imputed = knn_imputer.fit_transform(data_categorical)\n",
        "    imputed_rounded = np.round(imputed)\n",
        "    return pd.DataFrame(imputed_rounded, columns=data_categorical.columns)"
      ]
    },
    {
      "cell_type": "code",
      "execution_count": null,
      "metadata": {
        "id": "q8UIXtuAiQdB"
      },
      "outputs": [],
      "source": [
        "df_categorical_imputed = impute_categorical_knn(data_categorical)\n",
        "knn_imputer_continuous = KNNImputer(n_neighbors=5)\n",
        "data_continuous_imputed = pd.DataFrame(knn_imputer_continuous.fit_transform(data_continuous), columns=continuous_cols)\n",
        "df_imputed = pd.concat([df_categorical_imputed, data_continuous_imputed], axis=1)\n"
      ]
    },
    {
      "cell_type": "code",
      "execution_count": null,
      "metadata": {
        "colab": {
          "base_uri": "https://localhost:8080/"
        },
        "id": "kj3PZowenH9h",
        "outputId": "9d64553a-7e3d-4482-c184-fa00fc0a6b91"
      },
      "outputs": [
        {
          "name": "stdout",
          "output_type": "stream",
          "text": [
            "     sex   cp  fbs  restecg  exang  slope  thal   age  trestbps   chol  \\\n",
            "0    1.0  1.0  1.0      2.0    0.0    3.0   6.0  63.0     145.0  233.0   \n",
            "1    1.0  4.0  0.0      2.0    1.0    2.0   3.0  67.0     160.0  286.0   \n",
            "2    1.0  4.0  0.0      2.0    1.0    2.0   7.0  67.0     120.0  229.0   \n",
            "3    1.0  3.0  0.0      0.0    0.0    3.0   3.0  37.0     130.0  250.0   \n",
            "4    0.0  2.0  0.0      2.0    0.0    1.0   3.0  41.0     130.0  204.0   \n",
            "..   ...  ...  ...      ...    ...    ...   ...   ...       ...    ...   \n",
            "915  0.0  4.0  1.0      1.0    0.0    2.0   6.0  54.0     127.0  333.0   \n",
            "916  1.0  1.0  0.0      1.0    0.0    1.0   5.0  62.0     132.8  139.0   \n",
            "917  1.0  4.0  1.0      1.0    0.0    1.0   6.0  55.0     122.0  223.0   \n",
            "918  1.0  4.0  1.0      2.0    1.0    2.0   6.0  58.0     138.8  385.0   \n",
            "919  1.0  2.0  0.0      2.0    1.0    1.0   5.0  62.0     120.0  254.0   \n",
            "\n",
            "     thalch  oldpeak   ca  num  \n",
            "0     150.0      2.3  0.0  0.0  \n",
            "1     108.0      1.5  3.0  2.0  \n",
            "2     129.0      2.6  2.0  1.0  \n",
            "3     187.0      3.5  0.0  0.0  \n",
            "4     172.0      1.4  0.0  0.0  \n",
            "..      ...      ...  ...  ...  \n",
            "915   154.0      0.0  0.6  1.0  \n",
            "916   118.0      0.4  1.0  0.0  \n",
            "917   100.0      0.0  0.2  2.0  \n",
            "918   123.6      0.6  1.0  0.0  \n",
            "919    93.0      0.0  1.2  1.0  \n",
            "\n",
            "[920 rows x 14 columns]\n"
          ]
        }
      ],
      "source": [
        "print(df_imputed)"
      ]
    },
    {
      "cell_type": "code",
      "execution_count": null,
      "metadata": {
        "colab": {
          "base_uri": "https://localhost:8080/"
        },
        "id": "NIiKjWB4nZoX",
        "outputId": "7f5ca56a-64e0-401a-86f7-61df6eb3c197"
      },
      "outputs": [
        {
          "data": {
            "text/plain": [
              "sex         0\n",
              "cp          0\n",
              "fbs         0\n",
              "restecg     0\n",
              "exang       0\n",
              "slope       0\n",
              "thal        0\n",
              "age         0\n",
              "trestbps    0\n",
              "chol        0\n",
              "thalch      0\n",
              "oldpeak     0\n",
              "ca          0\n",
              "num         0\n",
              "dtype: int64"
            ]
          },
          "execution_count": 32,
          "metadata": {},
          "output_type": "execute_result"
        }
      ],
      "source": [
        "df_imputed.isnull().sum()"
      ]
    },
    {
      "cell_type": "markdown",
      "metadata": {
        "id": "xcGer2dbTfky"
      },
      "source": [
        "### Outlier detection"
      ]
    },
    {
      "cell_type": "markdown",
      "metadata": {
        "id": "BXzaj-MDa26i"
      },
      "source": [
        "In order to detect outlier data, there were created many methods such as density-based (such as Local Outlier Factory (LOF)) , distance-based (such as K-means and k-Nearest Neighbors (k-NN)) , neural network, and spectral-based. But those methods were orignillay developed for machine learning purposes such as classificacation or clustering and later were modified for detection of outlier data (Chandola et al. ,2009).\n"
      ]
    },
    {
      "cell_type": "markdown",
      "metadata": {
        "id": "CKD2jYqSKVmE"
      },
      "source": [
        "#### Isolation Forest (IF)"
      ]
    },
    {
      "cell_type": "markdown",
      "metadata": {
        "id": "MvHPm9swKRxf"
      },
      "source": [
        "The  Isolation Forest (IF) algorithm was one of many specially developed outlier detection. This method is based on the simple principle that data outliers or data anomalies are easy to isolate and detect because the minority of the instances of a dataset and their attribute-values are different from the rest of the instances. (Liu et al. ,2008).\n",
        "\n",
        "One of the advantages of IF is that it has significantly less execution time than other methods because it does not need to compute any distance or density (Chabchoub et al. , 2022). Further more, it has capacity to handle extremely large and high-dimensional data and, unlike other methods, where large sampling size is more appropriate,  the sample size necessary to best performance is better to keep it small (Yousra et al. ,2022).\n",
        "\n",
        "This method is divided into two stages: the training phase;  the creation of the forest, and the scoring phase; generation a score for each instance in the dataset.\n",
        "\n",
        "\n",
        "![image.png](data:image/png;base64,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)\n",
        "\n",
        "[Image of a binary tree with a maximum depth of 3 and internal and external nodes]. Chabchoub et al. (2022). An in-depth study and improvement of Isolation Forest. IEEE Access, 10, 10219-10237.\n",
        "\n",
        "\n",
        "In the systematic review made by Al Farizi et al. (2021) it was show that IF surpasses other methods of ouliers detectetion, in terms of accuracy and speed, while also demonstrating good performance with high-dimensional datasets. Because of this, in this project, for the purpose of anomaly or outlier data detection, we will be using Isolation Forest method."
      ]
    },
    {
      "cell_type": "markdown",
      "metadata": {
        "id": "Cru0v2-RKYEq"
      },
      "source": [
        "#### Isolation Forest (EIF)"
      ]
    },
    {
      "cell_type": "code",
      "execution_count": null,
      "metadata": {
        "id": "OQjTug1cIe5W"
      },
      "outputs": [],
      "source": [
        "#Create the list of the Predective Variables\n",
        "\n",
        "predictive_variables = df_imputed.columns.tolist()\n",
        "predictive_variables.remove('num')\n",
        "predictive_variables = pd.Index(predictive_variables)"
      ]
    },
    {
      "cell_type": "markdown",
      "metadata": {
        "id": "t1wqXZMCJN8L"
      },
      "source": [
        "##### Training Phase\n",
        "\n",
        "In the training phase, the data is divided by binary trees (Ithees) until the tree archieved an specific height or until is no longer possible to divide the data. The normal data will go deeper and deeper into the Itree and anomaly points will not go as deep."
      ]
    },
    {
      "cell_type": "code",
      "execution_count": null,
      "metadata": {
        "colab": {
          "base_uri": "https://localhost:8080/",
          "height": 109
        },
        "id": "dzoG0nT8Tmno",
        "outputId": "ba25396d-496e-4756-d164-888c4e94bc0d"
      },
      "outputs": [
        {
          "name": "stderr",
          "output_type": "stream",
          "text": [
            "/usr/local/lib/python3.10/dist-packages/sklearn/base.py:439: UserWarning: X does not have valid feature names, but IsolationForest was fitted with feature names\n",
            "  warnings.warn(\n"
          ]
        },
        {
          "data": {
            "text/html": [
              "<style>#sk-container-id-1 {color: black;background-color: white;}#sk-container-id-1 pre{padding: 0;}#sk-container-id-1 div.sk-toggleable {background-color: white;}#sk-container-id-1 label.sk-toggleable__label {cursor: pointer;display: block;width: 100%;margin-bottom: 0;padding: 0.3em;box-sizing: border-box;text-align: center;}#sk-container-id-1 label.sk-toggleable__label-arrow:before {content: \"▸\";float: left;margin-right: 0.25em;color: #696969;}#sk-container-id-1 label.sk-toggleable__label-arrow:hover:before {color: black;}#sk-container-id-1 div.sk-estimator:hover label.sk-toggleable__label-arrow:before {color: black;}#sk-container-id-1 div.sk-toggleable__content {max-height: 0;max-width: 0;overflow: hidden;text-align: left;background-color: #f0f8ff;}#sk-container-id-1 div.sk-toggleable__content pre {margin: 0.2em;color: black;border-radius: 0.25em;background-color: #f0f8ff;}#sk-container-id-1 input.sk-toggleable__control:checked~div.sk-toggleable__content {max-height: 200px;max-width: 100%;overflow: auto;}#sk-container-id-1 input.sk-toggleable__control:checked~label.sk-toggleable__label-arrow:before {content: \"▾\";}#sk-container-id-1 div.sk-estimator input.sk-toggleable__control:checked~label.sk-toggleable__label {background-color: #d4ebff;}#sk-container-id-1 div.sk-label input.sk-toggleable__control:checked~label.sk-toggleable__label {background-color: #d4ebff;}#sk-container-id-1 input.sk-hidden--visually {border: 0;clip: rect(1px 1px 1px 1px);clip: rect(1px, 1px, 1px, 1px);height: 1px;margin: -1px;overflow: hidden;padding: 0;position: absolute;width: 1px;}#sk-container-id-1 div.sk-estimator {font-family: monospace;background-color: #f0f8ff;border: 1px dotted black;border-radius: 0.25em;box-sizing: border-box;margin-bottom: 0.5em;}#sk-container-id-1 div.sk-estimator:hover {background-color: #d4ebff;}#sk-container-id-1 div.sk-parallel-item::after {content: \"\";width: 100%;border-bottom: 1px solid gray;flex-grow: 1;}#sk-container-id-1 div.sk-label:hover label.sk-toggleable__label {background-color: #d4ebff;}#sk-container-id-1 div.sk-serial::before {content: \"\";position: absolute;border-left: 1px solid gray;box-sizing: border-box;top: 0;bottom: 0;left: 50%;z-index: 0;}#sk-container-id-1 div.sk-serial {display: flex;flex-direction: column;align-items: center;background-color: white;padding-right: 0.2em;padding-left: 0.2em;position: relative;}#sk-container-id-1 div.sk-item {position: relative;z-index: 1;}#sk-container-id-1 div.sk-parallel {display: flex;align-items: stretch;justify-content: center;background-color: white;position: relative;}#sk-container-id-1 div.sk-item::before, #sk-container-id-1 div.sk-parallel-item::before {content: \"\";position: absolute;border-left: 1px solid gray;box-sizing: border-box;top: 0;bottom: 0;left: 50%;z-index: -1;}#sk-container-id-1 div.sk-parallel-item {display: flex;flex-direction: column;z-index: 1;position: relative;background-color: white;}#sk-container-id-1 div.sk-parallel-item:first-child::after {align-self: flex-end;width: 50%;}#sk-container-id-1 div.sk-parallel-item:last-child::after {align-self: flex-start;width: 50%;}#sk-container-id-1 div.sk-parallel-item:only-child::after {width: 0;}#sk-container-id-1 div.sk-dashed-wrapped {border: 1px dashed gray;margin: 0 0.4em 0.5em 0.4em;box-sizing: border-box;padding-bottom: 0.4em;background-color: white;}#sk-container-id-1 div.sk-label label {font-family: monospace;font-weight: bold;display: inline-block;line-height: 1.2em;}#sk-container-id-1 div.sk-label-container {text-align: center;}#sk-container-id-1 div.sk-container {/* jupyter's `normalize.less` sets `[hidden] { display: none; }` but bootstrap.min.css set `[hidden] { display: none !important; }` so we also need the `!important` here to be able to override the default hidden behavior on the sphinx rendered scikit-learn.org. See: https://github.com/scikit-learn/scikit-learn/issues/21755 */display: inline-block !important;position: relative;}#sk-container-id-1 div.sk-text-repr-fallback {display: none;}</style><div id=\"sk-container-id-1\" class=\"sk-top-container\"><div class=\"sk-text-repr-fallback\"><pre>IsolationForest(contamination=0.1)</pre><b>In a Jupyter environment, please rerun this cell to show the HTML representation or trust the notebook. <br />On GitHub, the HTML representation is unable to render, please try loading this page with nbviewer.org.</b></div><div class=\"sk-container\" hidden><div class=\"sk-item\"><div class=\"sk-estimator sk-toggleable\"><input class=\"sk-toggleable__control sk-hidden--visually\" id=\"sk-estimator-id-1\" type=\"checkbox\" checked><label for=\"sk-estimator-id-1\" class=\"sk-toggleable__label sk-toggleable__label-arrow\">IsolationForest</label><div class=\"sk-toggleable__content\"><pre>IsolationForest(contamination=0.1)</pre></div></div></div></div></div>"
            ],
            "text/plain": [
              "IsolationForest(contamination=0.1)"
            ]
          },
          "execution_count": 34,
          "metadata": {},
          "output_type": "execute_result"
        }
      ],
      "source": [
        "IF = IsolationForest(contamination=0.1)\n",
        "IF.fit(df_imputed[predictive_variables])"
      ]
    },
    {
      "cell_type": "markdown",
      "metadata": {
        "id": "DrATVdH8JgV5"
      },
      "source": [
        "##### Scoring Phase\n",
        "\n",
        "In this phase, for each instance of the dataset is calculated a score that represents how similiar are each instance from the other ones. An score of 0.5 of less is treated as normal data, by contrast, an score superior to 0.5 to 1, is considered an outlier.\n"
      ]
    },
    {
      "cell_type": "code",
      "execution_count": null,
      "metadata": {
        "colab": {
          "base_uri": "https://localhost:8080/",
          "height": 424
        },
        "id": "H9vSwmqPJCo_",
        "outputId": "04863f7e-a85d-47d5-cc6b-2ac28ecb48eb"
      },
      "outputs": [
        {
          "data": {
            "application/vnd.google.colaboratory.intrinsic+json": {
              "summary": "{\n  \"name\": \"df_imputed\",\n  \"rows\": 920,\n  \"fields\": [\n    {\n      \"column\": \"sex\",\n      \"properties\": {\n        \"dtype\": \"number\",\n        \"std\": 0.4081478432714873,\n        \"min\": 0.0,\n        \"max\": 1.0,\n        \"num_unique_values\": 2,\n        \"samples\": [\n          0.0,\n          1.0\n        ],\n        \"semantic_type\": \"\",\n        \"description\": \"\"\n      }\n    },\n    {\n      \"column\": \"cp\",\n      \"properties\": {\n        \"dtype\": \"number\",\n        \"std\": 0.9309688168655602,\n        \"min\": 1.0,\n        \"max\": 4.0,\n        \"num_unique_values\": 4,\n        \"samples\": [\n          4.0,\n          2.0\n        ],\n        \"semantic_type\": \"\",\n        \"description\": \"\"\n      }\n    },\n    {\n      \"column\": \"fbs\",\n      \"properties\": {\n        \"dtype\": \"number\",\n        \"std\": 0.3593847544243309,\n        \"min\": 0.0,\n        \"max\": 1.0,\n        \"num_unique_values\": 2,\n        \"samples\": [\n          0.0,\n          1.0\n        ],\n        \"semantic_type\": \"\",\n        \"description\": \"\"\n      }\n    },\n    {\n      \"column\": \"restecg\",\n      \"properties\": {\n        \"dtype\": \"number\",\n        \"std\": 0.8051607386795154,\n        \"min\": 0.0,\n        \"max\": 2.0,\n        \"num_unique_values\": 3,\n        \"samples\": [\n          2.0,\n          0.0\n        ],\n        \"semantic_type\": \"\",\n        \"description\": \"\"\n      }\n    },\n    {\n      \"column\": \"exang\",\n      \"properties\": {\n        \"dtype\": \"number\",\n        \"std\": 0.4892562905479634,\n        \"min\": 0.0,\n        \"max\": 1.0,\n        \"num_unique_values\": 2,\n        \"samples\": [\n          1.0,\n          0.0\n        ],\n        \"semantic_type\": \"\",\n        \"description\": \"\"\n      }\n    },\n    {\n      \"column\": \"slope\",\n      \"properties\": {\n        \"dtype\": \"number\",\n        \"std\": 0.5750228062476933,\n        \"min\": 1.0,\n        \"max\": 3.0,\n        \"num_unique_values\": 3,\n        \"samples\": [\n          3.0,\n          2.0\n        ],\n        \"semantic_type\": \"\",\n        \"description\": \"\"\n      }\n    },\n    {\n      \"column\": \"thal\",\n      \"properties\": {\n        \"dtype\": \"number\",\n        \"std\": 1.6254204168269093,\n        \"min\": 3.0,\n        \"max\": 7.0,\n        \"num_unique_values\": 5,\n        \"samples\": [\n          3.0,\n          5.0\n        ],\n        \"semantic_type\": \"\",\n        \"description\": \"\"\n      }\n    },\n    {\n      \"column\": \"age\",\n      \"properties\": {\n        \"dtype\": \"number\",\n        \"std\": 9.424685209576857,\n        \"min\": 28.0,\n        \"max\": 77.0,\n        \"num_unique_values\": 50,\n        \"samples\": [\n          64.0,\n          74.0\n        ],\n        \"semantic_type\": \"\",\n        \"description\": \"\"\n      }\n    },\n    {\n      \"column\": \"trestbps\",\n      \"properties\": {\n        \"dtype\": \"number\",\n        \"std\": 18.61570983081456,\n        \"min\": 0.0,\n        \"max\": 200.0,\n        \"num_unique_values\": 92,\n        \"samples\": [\n          129.0,\n          108.0\n        ],\n        \"semantic_type\": \"\",\n        \"description\": \"\"\n      }\n    },\n    {\n      \"column\": \"chol\",\n      \"properties\": {\n        \"dtype\": \"number\",\n        \"std\": 109.25329885948953,\n        \"min\": 0.0,\n        \"max\": 603.0,\n        \"num_unique_values\": 242,\n        \"samples\": [\n          219.0,\n          268.0\n        ],\n        \"semantic_type\": \"\",\n        \"description\": \"\"\n      }\n    },\n    {\n      \"column\": \"thalch\",\n      \"properties\": {\n        \"dtype\": \"number\",\n        \"std\": 25.424901232595396,\n        \"min\": 60.0,\n        \"max\": 202.0,\n        \"num_unique_values\": 158,\n        \"samples\": [\n          103.2,\n          180.0\n        ],\n        \"semantic_type\": \"\",\n        \"description\": \"\"\n      }\n    },\n    {\n      \"column\": \"oldpeak\",\n      \"properties\": {\n        \"dtype\": \"number\",\n        \"std\": 1.0635260489126308,\n        \"min\": -2.6,\n        \"max\": 6.2,\n        \"num_unique_values\": 85,\n        \"samples\": [\n          0.52,\n          2.3\n        ],\n        \"semantic_type\": \"\",\n        \"description\": \"\"\n      }\n    },\n    {\n      \"column\": \"ca\",\n      \"properties\": {\n        \"dtype\": \"number\",\n        \"std\": 0.6679462535026641,\n        \"min\": 0.0,\n        \"max\": 3.0,\n        \"num_unique_values\": 14,\n        \"samples\": [\n          0.8,\n          1.4\n        ],\n        \"semantic_type\": \"\",\n        \"description\": \"\"\n      }\n    },\n    {\n      \"column\": \"num\",\n      \"properties\": {\n        \"dtype\": \"number\",\n        \"std\": 1.142693403338037,\n        \"min\": 0.0,\n        \"max\": 4.0,\n        \"num_unique_values\": 5,\n        \"samples\": [\n          2.0,\n          4.0\n        ],\n        \"semantic_type\": \"\",\n        \"description\": \"\"\n      }\n    },\n    {\n      \"column\": \"anomaly_scores\",\n      \"properties\": {\n        \"dtype\": \"number\",\n        \"std\": 0.04748906486477955,\n        \"min\": -0.09669501629496058,\n        \"max\": 0.15222702794558446,\n        \"num_unique_values\": 918,\n        \"samples\": [\n          0.04715538210983117,\n          -0.008681840137288677\n        ],\n        \"semantic_type\": \"\",\n        \"description\": \"\"\n      }\n    },\n    {\n      \"column\": \"anomaly\",\n      \"properties\": {\n        \"dtype\": \"number\",\n        \"std\": 0,\n        \"min\": -1,\n        \"max\": 1,\n        \"num_unique_values\": 2,\n        \"samples\": [\n          1,\n          -1\n        ],\n        \"semantic_type\": \"\",\n        \"description\": \"\"\n      }\n    }\n  ]\n}",
              "type": "dataframe",
              "variable_name": "df_imputed"
            },
            "text/html": [
              "\n",
              "  <div id=\"df-33b18248-6a30-402c-adf7-cce05c8f5f2c\" class=\"colab-df-container\">\n",
              "    <div>\n",
              "<style scoped>\n",
              "    .dataframe tbody tr th:only-of-type {\n",
              "        vertical-align: middle;\n",
              "    }\n",
              "\n",
              "    .dataframe tbody tr th {\n",
              "        vertical-align: top;\n",
              "    }\n",
              "\n",
              "    .dataframe thead th {\n",
              "        text-align: right;\n",
              "    }\n",
              "</style>\n",
              "<table border=\"1\" class=\"dataframe\">\n",
              "  <thead>\n",
              "    <tr style=\"text-align: right;\">\n",
              "      <th></th>\n",
              "      <th>sex</th>\n",
              "      <th>cp</th>\n",
              "      <th>fbs</th>\n",
              "      <th>restecg</th>\n",
              "      <th>exang</th>\n",
              "      <th>slope</th>\n",
              "      <th>thal</th>\n",
              "      <th>age</th>\n",
              "      <th>trestbps</th>\n",
              "      <th>chol</th>\n",
              "      <th>thalch</th>\n",
              "      <th>oldpeak</th>\n",
              "      <th>ca</th>\n",
              "      <th>num</th>\n",
              "      <th>anomaly_scores</th>\n",
              "      <th>anomaly</th>\n",
              "    </tr>\n",
              "  </thead>\n",
              "  <tbody>\n",
              "    <tr>\n",
              "      <th>0</th>\n",
              "      <td>1.0</td>\n",
              "      <td>1.0</td>\n",
              "      <td>1.0</td>\n",
              "      <td>2.0</td>\n",
              "      <td>0.0</td>\n",
              "      <td>3.0</td>\n",
              "      <td>6.0</td>\n",
              "      <td>63.0</td>\n",
              "      <td>145.0</td>\n",
              "      <td>233.0</td>\n",
              "      <td>150.0</td>\n",
              "      <td>2.3</td>\n",
              "      <td>0.0</td>\n",
              "      <td>0.0</td>\n",
              "      <td>-0.061841</td>\n",
              "      <td>-1</td>\n",
              "    </tr>\n",
              "    <tr>\n",
              "      <th>1</th>\n",
              "      <td>1.0</td>\n",
              "      <td>4.0</td>\n",
              "      <td>0.0</td>\n",
              "      <td>2.0</td>\n",
              "      <td>1.0</td>\n",
              "      <td>2.0</td>\n",
              "      <td>3.0</td>\n",
              "      <td>67.0</td>\n",
              "      <td>160.0</td>\n",
              "      <td>286.0</td>\n",
              "      <td>108.0</td>\n",
              "      <td>1.5</td>\n",
              "      <td>3.0</td>\n",
              "      <td>2.0</td>\n",
              "      <td>-0.005506</td>\n",
              "      <td>-1</td>\n",
              "    </tr>\n",
              "    <tr>\n",
              "      <th>2</th>\n",
              "      <td>1.0</td>\n",
              "      <td>4.0</td>\n",
              "      <td>0.0</td>\n",
              "      <td>2.0</td>\n",
              "      <td>1.0</td>\n",
              "      <td>2.0</td>\n",
              "      <td>7.0</td>\n",
              "      <td>67.0</td>\n",
              "      <td>120.0</td>\n",
              "      <td>229.0</td>\n",
              "      <td>129.0</td>\n",
              "      <td>2.6</td>\n",
              "      <td>2.0</td>\n",
              "      <td>1.0</td>\n",
              "      <td>0.077810</td>\n",
              "      <td>1</td>\n",
              "    </tr>\n",
              "    <tr>\n",
              "      <th>3</th>\n",
              "      <td>1.0</td>\n",
              "      <td>3.0</td>\n",
              "      <td>0.0</td>\n",
              "      <td>0.0</td>\n",
              "      <td>0.0</td>\n",
              "      <td>3.0</td>\n",
              "      <td>3.0</td>\n",
              "      <td>37.0</td>\n",
              "      <td>130.0</td>\n",
              "      <td>250.0</td>\n",
              "      <td>187.0</td>\n",
              "      <td>3.5</td>\n",
              "      <td>0.0</td>\n",
              "      <td>0.0</td>\n",
              "      <td>-0.016023</td>\n",
              "      <td>-1</td>\n",
              "    </tr>\n",
              "    <tr>\n",
              "      <th>4</th>\n",
              "      <td>0.0</td>\n",
              "      <td>2.0</td>\n",
              "      <td>0.0</td>\n",
              "      <td>2.0</td>\n",
              "      <td>0.0</td>\n",
              "      <td>1.0</td>\n",
              "      <td>3.0</td>\n",
              "      <td>41.0</td>\n",
              "      <td>130.0</td>\n",
              "      <td>204.0</td>\n",
              "      <td>172.0</td>\n",
              "      <td>1.4</td>\n",
              "      <td>0.0</td>\n",
              "      <td>0.0</td>\n",
              "      <td>0.015538</td>\n",
              "      <td>1</td>\n",
              "    </tr>\n",
              "    <tr>\n",
              "      <th>...</th>\n",
              "      <td>...</td>\n",
              "      <td>...</td>\n",
              "      <td>...</td>\n",
              "      <td>...</td>\n",
              "      <td>...</td>\n",
              "      <td>...</td>\n",
              "      <td>...</td>\n",
              "      <td>...</td>\n",
              "      <td>...</td>\n",
              "      <td>...</td>\n",
              "      <td>...</td>\n",
              "      <td>...</td>\n",
              "      <td>...</td>\n",
              "      <td>...</td>\n",
              "      <td>...</td>\n",
              "      <td>...</td>\n",
              "    </tr>\n",
              "    <tr>\n",
              "      <th>915</th>\n",
              "      <td>0.0</td>\n",
              "      <td>4.0</td>\n",
              "      <td>1.0</td>\n",
              "      <td>1.0</td>\n",
              "      <td>0.0</td>\n",
              "      <td>2.0</td>\n",
              "      <td>6.0</td>\n",
              "      <td>54.0</td>\n",
              "      <td>127.0</td>\n",
              "      <td>333.0</td>\n",
              "      <td>154.0</td>\n",
              "      <td>0.0</td>\n",
              "      <td>0.6</td>\n",
              "      <td>1.0</td>\n",
              "      <td>-0.001017</td>\n",
              "      <td>-1</td>\n",
              "    </tr>\n",
              "    <tr>\n",
              "      <th>916</th>\n",
              "      <td>1.0</td>\n",
              "      <td>1.0</td>\n",
              "      <td>0.0</td>\n",
              "      <td>1.0</td>\n",
              "      <td>0.0</td>\n",
              "      <td>1.0</td>\n",
              "      <td>5.0</td>\n",
              "      <td>62.0</td>\n",
              "      <td>132.8</td>\n",
              "      <td>139.0</td>\n",
              "      <td>118.0</td>\n",
              "      <td>0.4</td>\n",
              "      <td>1.0</td>\n",
              "      <td>0.0</td>\n",
              "      <td>0.032562</td>\n",
              "      <td>1</td>\n",
              "    </tr>\n",
              "    <tr>\n",
              "      <th>917</th>\n",
              "      <td>1.0</td>\n",
              "      <td>4.0</td>\n",
              "      <td>1.0</td>\n",
              "      <td>1.0</td>\n",
              "      <td>0.0</td>\n",
              "      <td>1.0</td>\n",
              "      <td>6.0</td>\n",
              "      <td>55.0</td>\n",
              "      <td>122.0</td>\n",
              "      <td>223.0</td>\n",
              "      <td>100.0</td>\n",
              "      <td>0.0</td>\n",
              "      <td>0.2</td>\n",
              "      <td>2.0</td>\n",
              "      <td>0.028816</td>\n",
              "      <td>1</td>\n",
              "    </tr>\n",
              "    <tr>\n",
              "      <th>918</th>\n",
              "      <td>1.0</td>\n",
              "      <td>4.0</td>\n",
              "      <td>1.0</td>\n",
              "      <td>2.0</td>\n",
              "      <td>1.0</td>\n",
              "      <td>2.0</td>\n",
              "      <td>6.0</td>\n",
              "      <td>58.0</td>\n",
              "      <td>138.8</td>\n",
              "      <td>385.0</td>\n",
              "      <td>123.6</td>\n",
              "      <td>0.6</td>\n",
              "      <td>1.0</td>\n",
              "      <td>0.0</td>\n",
              "      <td>0.037346</td>\n",
              "      <td>1</td>\n",
              "    </tr>\n",
              "    <tr>\n",
              "      <th>919</th>\n",
              "      <td>1.0</td>\n",
              "      <td>2.0</td>\n",
              "      <td>0.0</td>\n",
              "      <td>2.0</td>\n",
              "      <td>1.0</td>\n",
              "      <td>1.0</td>\n",
              "      <td>5.0</td>\n",
              "      <td>62.0</td>\n",
              "      <td>120.0</td>\n",
              "      <td>254.0</td>\n",
              "      <td>93.0</td>\n",
              "      <td>0.0</td>\n",
              "      <td>1.2</td>\n",
              "      <td>1.0</td>\n",
              "      <td>-0.006214</td>\n",
              "      <td>-1</td>\n",
              "    </tr>\n",
              "  </tbody>\n",
              "</table>\n",
              "<p>920 rows × 16 columns</p>\n",
              "</div>\n",
              "    <div class=\"colab-df-buttons\">\n",
              "\n",
              "  <div class=\"colab-df-container\">\n",
              "    <button class=\"colab-df-convert\" onclick=\"convertToInteractive('df-33b18248-6a30-402c-adf7-cce05c8f5f2c')\"\n",
              "            title=\"Convert this dataframe to an interactive table.\"\n",
              "            style=\"display:none;\">\n",
              "\n",
              "  <svg xmlns=\"http://www.w3.org/2000/svg\" height=\"24px\" viewBox=\"0 -960 960 960\">\n",
              "    <path d=\"M120-120v-720h720v720H120Zm60-500h600v-160H180v160Zm220 220h160v-160H400v160Zm0 220h160v-160H400v160ZM180-400h160v-160H180v160Zm440 0h160v-160H620v160ZM180-180h160v-160H180v160Zm440 0h160v-160H620v160Z\"/>\n",
              "  </svg>\n",
              "    </button>\n",
              "\n",
              "  <style>\n",
              "    .colab-df-container {\n",
              "      display:flex;\n",
              "      gap: 12px;\n",
              "    }\n",
              "\n",
              "    .colab-df-convert {\n",
              "      background-color: #E8F0FE;\n",
              "      border: none;\n",
              "      border-radius: 50%;\n",
              "      cursor: pointer;\n",
              "      display: none;\n",
              "      fill: #1967D2;\n",
              "      height: 32px;\n",
              "      padding: 0 0 0 0;\n",
              "      width: 32px;\n",
              "    }\n",
              "\n",
              "    .colab-df-convert:hover {\n",
              "      background-color: #E2EBFA;\n",
              "      box-shadow: 0px 1px 2px rgba(60, 64, 67, 0.3), 0px 1px 3px 1px rgba(60, 64, 67, 0.15);\n",
              "      fill: #174EA6;\n",
              "    }\n",
              "\n",
              "    .colab-df-buttons div {\n",
              "      margin-bottom: 4px;\n",
              "    }\n",
              "\n",
              "    [theme=dark] .colab-df-convert {\n",
              "      background-color: #3B4455;\n",
              "      fill: #D2E3FC;\n",
              "    }\n",
              "\n",
              "    [theme=dark] .colab-df-convert:hover {\n",
              "      background-color: #434B5C;\n",
              "      box-shadow: 0px 1px 3px 1px rgba(0, 0, 0, 0.15);\n",
              "      filter: drop-shadow(0px 1px 2px rgba(0, 0, 0, 0.3));\n",
              "      fill: #FFFFFF;\n",
              "    }\n",
              "  </style>\n",
              "\n",
              "    <script>\n",
              "      const buttonEl =\n",
              "        document.querySelector('#df-33b18248-6a30-402c-adf7-cce05c8f5f2c button.colab-df-convert');\n",
              "      buttonEl.style.display =\n",
              "        google.colab.kernel.accessAllowed ? 'block' : 'none';\n",
              "\n",
              "      async function convertToInteractive(key) {\n",
              "        const element = document.querySelector('#df-33b18248-6a30-402c-adf7-cce05c8f5f2c');\n",
              "        const dataTable =\n",
              "          await google.colab.kernel.invokeFunction('convertToInteractive',\n",
              "                                                    [key], {});\n",
              "        if (!dataTable) return;\n",
              "\n",
              "        const docLinkHtml = 'Like what you see? Visit the ' +\n",
              "          '<a target=\"_blank\" href=https://colab.research.google.com/notebooks/data_table.ipynb>data table notebook</a>'\n",
              "          + ' to learn more about interactive tables.';\n",
              "        element.innerHTML = '';\n",
              "        dataTable['output_type'] = 'display_data';\n",
              "        await google.colab.output.renderOutput(dataTable, element);\n",
              "        const docLink = document.createElement('div');\n",
              "        docLink.innerHTML = docLinkHtml;\n",
              "        element.appendChild(docLink);\n",
              "      }\n",
              "    </script>\n",
              "  </div>\n",
              "\n",
              "\n",
              "<div id=\"df-f518c4d6-0033-4dcc-bfd9-61bfe5d8a67e\">\n",
              "  <button class=\"colab-df-quickchart\" onclick=\"quickchart('df-f518c4d6-0033-4dcc-bfd9-61bfe5d8a67e')\"\n",
              "            title=\"Suggest charts\"\n",
              "            style=\"display:none;\">\n",
              "\n",
              "<svg xmlns=\"http://www.w3.org/2000/svg\" height=\"24px\"viewBox=\"0 0 24 24\"\n",
              "     width=\"24px\">\n",
              "    <g>\n",
              "        <path d=\"M19 3H5c-1.1 0-2 .9-2 2v14c0 1.1.9 2 2 2h14c1.1 0 2-.9 2-2V5c0-1.1-.9-2-2-2zM9 17H7v-7h2v7zm4 0h-2V7h2v10zm4 0h-2v-4h2v4z\"/>\n",
              "    </g>\n",
              "</svg>\n",
              "  </button>\n",
              "\n",
              "<style>\n",
              "  .colab-df-quickchart {\n",
              "      --bg-color: #E8F0FE;\n",
              "      --fill-color: #1967D2;\n",
              "      --hover-bg-color: #E2EBFA;\n",
              "      --hover-fill-color: #174EA6;\n",
              "      --disabled-fill-color: #AAA;\n",
              "      --disabled-bg-color: #DDD;\n",
              "  }\n",
              "\n",
              "  [theme=dark] .colab-df-quickchart {\n",
              "      --bg-color: #3B4455;\n",
              "      --fill-color: #D2E3FC;\n",
              "      --hover-bg-color: #434B5C;\n",
              "      --hover-fill-color: #FFFFFF;\n",
              "      --disabled-bg-color: #3B4455;\n",
              "      --disabled-fill-color: #666;\n",
              "  }\n",
              "\n",
              "  .colab-df-quickchart {\n",
              "    background-color: var(--bg-color);\n",
              "    border: none;\n",
              "    border-radius: 50%;\n",
              "    cursor: pointer;\n",
              "    display: none;\n",
              "    fill: var(--fill-color);\n",
              "    height: 32px;\n",
              "    padding: 0;\n",
              "    width: 32px;\n",
              "  }\n",
              "\n",
              "  .colab-df-quickchart:hover {\n",
              "    background-color: var(--hover-bg-color);\n",
              "    box-shadow: 0 1px 2px rgba(60, 64, 67, 0.3), 0 1px 3px 1px rgba(60, 64, 67, 0.15);\n",
              "    fill: var(--button-hover-fill-color);\n",
              "  }\n",
              "\n",
              "  .colab-df-quickchart-complete:disabled,\n",
              "  .colab-df-quickchart-complete:disabled:hover {\n",
              "    background-color: var(--disabled-bg-color);\n",
              "    fill: var(--disabled-fill-color);\n",
              "    box-shadow: none;\n",
              "  }\n",
              "\n",
              "  .colab-df-spinner {\n",
              "    border: 2px solid var(--fill-color);\n",
              "    border-color: transparent;\n",
              "    border-bottom-color: var(--fill-color);\n",
              "    animation:\n",
              "      spin 1s steps(1) infinite;\n",
              "  }\n",
              "\n",
              "  @keyframes spin {\n",
              "    0% {\n",
              "      border-color: transparent;\n",
              "      border-bottom-color: var(--fill-color);\n",
              "      border-left-color: var(--fill-color);\n",
              "    }\n",
              "    20% {\n",
              "      border-color: transparent;\n",
              "      border-left-color: var(--fill-color);\n",
              "      border-top-color: var(--fill-color);\n",
              "    }\n",
              "    30% {\n",
              "      border-color: transparent;\n",
              "      border-left-color: var(--fill-color);\n",
              "      border-top-color: var(--fill-color);\n",
              "      border-right-color: var(--fill-color);\n",
              "    }\n",
              "    40% {\n",
              "      border-color: transparent;\n",
              "      border-right-color: var(--fill-color);\n",
              "      border-top-color: var(--fill-color);\n",
              "    }\n",
              "    60% {\n",
              "      border-color: transparent;\n",
              "      border-right-color: var(--fill-color);\n",
              "    }\n",
              "    80% {\n",
              "      border-color: transparent;\n",
              "      border-right-color: var(--fill-color);\n",
              "      border-bottom-color: var(--fill-color);\n",
              "    }\n",
              "    90% {\n",
              "      border-color: transparent;\n",
              "      border-bottom-color: var(--fill-color);\n",
              "    }\n",
              "  }\n",
              "</style>\n",
              "\n",
              "  <script>\n",
              "    async function quickchart(key) {\n",
              "      const quickchartButtonEl =\n",
              "        document.querySelector('#' + key + ' button');\n",
              "      quickchartButtonEl.disabled = true;  // To prevent multiple clicks.\n",
              "      quickchartButtonEl.classList.add('colab-df-spinner');\n",
              "      try {\n",
              "        const charts = await google.colab.kernel.invokeFunction(\n",
              "            'suggestCharts', [key], {});\n",
              "      } catch (error) {\n",
              "        console.error('Error during call to suggestCharts:', error);\n",
              "      }\n",
              "      quickchartButtonEl.classList.remove('colab-df-spinner');\n",
              "      quickchartButtonEl.classList.add('colab-df-quickchart-complete');\n",
              "    }\n",
              "    (() => {\n",
              "      let quickchartButtonEl =\n",
              "        document.querySelector('#df-f518c4d6-0033-4dcc-bfd9-61bfe5d8a67e button');\n",
              "      quickchartButtonEl.style.display =\n",
              "        google.colab.kernel.accessAllowed ? 'block' : 'none';\n",
              "    })();\n",
              "  </script>\n",
              "</div>\n",
              "\n",
              "  <div id=\"id_aaa56c67-5d7d-407e-937a-47af9e4e7251\">\n",
              "    <style>\n",
              "      .colab-df-generate {\n",
              "        background-color: #E8F0FE;\n",
              "        border: none;\n",
              "        border-radius: 50%;\n",
              "        cursor: pointer;\n",
              "        display: none;\n",
              "        fill: #1967D2;\n",
              "        height: 32px;\n",
              "        padding: 0 0 0 0;\n",
              "        width: 32px;\n",
              "      }\n",
              "\n",
              "      .colab-df-generate:hover {\n",
              "        background-color: #E2EBFA;\n",
              "        box-shadow: 0px 1px 2px rgba(60, 64, 67, 0.3), 0px 1px 3px 1px rgba(60, 64, 67, 0.15);\n",
              "        fill: #174EA6;\n",
              "      }\n",
              "\n",
              "      [theme=dark] .colab-df-generate {\n",
              "        background-color: #3B4455;\n",
              "        fill: #D2E3FC;\n",
              "      }\n",
              "\n",
              "      [theme=dark] .colab-df-generate:hover {\n",
              "        background-color: #434B5C;\n",
              "        box-shadow: 0px 1px 3px 1px rgba(0, 0, 0, 0.15);\n",
              "        filter: drop-shadow(0px 1px 2px rgba(0, 0, 0, 0.3));\n",
              "        fill: #FFFFFF;\n",
              "      }\n",
              "    </style>\n",
              "    <button class=\"colab-df-generate\" onclick=\"generateWithVariable('df_imputed')\"\n",
              "            title=\"Generate code using this dataframe.\"\n",
              "            style=\"display:none;\">\n",
              "\n",
              "  <svg xmlns=\"http://www.w3.org/2000/svg\" height=\"24px\"viewBox=\"0 0 24 24\"\n",
              "       width=\"24px\">\n",
              "    <path d=\"M7,19H8.4L18.45,9,17,7.55,7,17.6ZM5,21V16.75L18.45,3.32a2,2,0,0,1,2.83,0l1.4,1.43a1.91,1.91,0,0,1,.58,1.4,1.91,1.91,0,0,1-.58,1.4L9.25,21ZM18.45,9,17,7.55Zm-12,3A5.31,5.31,0,0,0,4.9,8.1,5.31,5.31,0,0,0,1,6.5,5.31,5.31,0,0,0,4.9,4.9,5.31,5.31,0,0,0,6.5,1,5.31,5.31,0,0,0,8.1,4.9,5.31,5.31,0,0,0,12,6.5,5.46,5.46,0,0,0,6.5,12Z\"/>\n",
              "  </svg>\n",
              "    </button>\n",
              "    <script>\n",
              "      (() => {\n",
              "      const buttonEl =\n",
              "        document.querySelector('#id_aaa56c67-5d7d-407e-937a-47af9e4e7251 button.colab-df-generate');\n",
              "      buttonEl.style.display =\n",
              "        google.colab.kernel.accessAllowed ? 'block' : 'none';\n",
              "\n",
              "      buttonEl.onclick = () => {\n",
              "        google.colab.notebook.generateWithVariable('df_imputed');\n",
              "      }\n",
              "      })();\n",
              "    </script>\n",
              "  </div>\n",
              "\n",
              "    </div>\n",
              "  </div>\n"
            ],
            "text/plain": [
              "     sex   cp  fbs  restecg  exang  slope  thal   age  trestbps   chol  \\\n",
              "0    1.0  1.0  1.0      2.0    0.0    3.0   6.0  63.0     145.0  233.0   \n",
              "1    1.0  4.0  0.0      2.0    1.0    2.0   3.0  67.0     160.0  286.0   \n",
              "2    1.0  4.0  0.0      2.0    1.0    2.0   7.0  67.0     120.0  229.0   \n",
              "3    1.0  3.0  0.0      0.0    0.0    3.0   3.0  37.0     130.0  250.0   \n",
              "4    0.0  2.0  0.0      2.0    0.0    1.0   3.0  41.0     130.0  204.0   \n",
              "..   ...  ...  ...      ...    ...    ...   ...   ...       ...    ...   \n",
              "915  0.0  4.0  1.0      1.0    0.0    2.0   6.0  54.0     127.0  333.0   \n",
              "916  1.0  1.0  0.0      1.0    0.0    1.0   5.0  62.0     132.8  139.0   \n",
              "917  1.0  4.0  1.0      1.0    0.0    1.0   6.0  55.0     122.0  223.0   \n",
              "918  1.0  4.0  1.0      2.0    1.0    2.0   6.0  58.0     138.8  385.0   \n",
              "919  1.0  2.0  0.0      2.0    1.0    1.0   5.0  62.0     120.0  254.0   \n",
              "\n",
              "     thalch  oldpeak   ca  num  anomaly_scores  anomaly  \n",
              "0     150.0      2.3  0.0  0.0       -0.061841       -1  \n",
              "1     108.0      1.5  3.0  2.0       -0.005506       -1  \n",
              "2     129.0      2.6  2.0  1.0        0.077810        1  \n",
              "3     187.0      3.5  0.0  0.0       -0.016023       -1  \n",
              "4     172.0      1.4  0.0  0.0        0.015538        1  \n",
              "..      ...      ...  ...  ...             ...      ...  \n",
              "915   154.0      0.0  0.6  1.0       -0.001017       -1  \n",
              "916   118.0      0.4  1.0  0.0        0.032562        1  \n",
              "917   100.0      0.0  0.2  2.0        0.028816        1  \n",
              "918   123.6      0.6  1.0  0.0        0.037346        1  \n",
              "919    93.0      0.0  1.2  1.0       -0.006214       -1  \n",
              "\n",
              "[920 rows x 16 columns]"
            ]
          },
          "execution_count": 35,
          "metadata": {},
          "output_type": "execute_result"
        }
      ],
      "source": [
        "df_imputed['anomaly_scores'] = IF.decision_function(df_imputed[predictive_variables])\n",
        "df_imputed['anomaly'] = IF.predict(df_imputed[predictive_variables])\n",
        "df_imputed"
      ]
    },
    {
      "cell_type": "code",
      "execution_count": null,
      "metadata": {
        "colab": {
          "base_uri": "https://localhost:8080/"
        },
        "id": "hul0HRWncrks",
        "outputId": "a733f730-4f57-4731-80ce-1c91bab4ebdd"
      },
      "outputs": [
        {
          "name": "stdout",
          "output_type": "stream",
          "text": [
            "anomaly\n",
            " 1    828\n",
            "-1     92\n",
            "Name: count, dtype: int64\n"
          ]
        }
      ],
      "source": [
        "print (df_imputed[\"anomaly\"].value_counts())"
      ]
    },
    {
      "cell_type": "code",
      "execution_count": null,
      "metadata": {
        "id": "b5GClPYLfNqr"
      },
      "outputs": [],
      "source": [
        "#As the quantity of outlier Data isn't significant, the consenquences of erase it will be minimum, so, we are going to remove it.\n",
        "threshold = 0.5\n",
        "\n",
        "df_cleaned = df_imputed[df_imputed['anomaly'] == 1]\n",
        "df_cleaned = df_cleaned[df_cleaned['anomaly_scores'] < threshold]"
      ]
    },
    {
      "cell_type": "markdown",
      "metadata": {
        "id": "M8DZFJemeFz3"
      },
      "source": [
        "#### Data Balacing"
      ]
    },
    {
      "cell_type": "code",
      "execution_count": null,
      "metadata": {
        "colab": {
          "base_uri": "https://localhost:8080/"
        },
        "id": "CgPE32VveJ37",
        "outputId": "88c37067-9003-4eeb-9294-3588ebec55db"
      },
      "outputs": [
        {
          "name": "stdout",
          "output_type": "stream",
          "text": [
            "num\n",
            "0.0    45.169082\n",
            "1.0    29.951691\n",
            "2.0    11.473430\n",
            "3.0    10.990338\n",
            "4.0     2.415459\n",
            "Name: proportion, dtype: float64\n",
            "num\n",
            "0.0    374\n",
            "1.0    248\n",
            "2.0     95\n",
            "3.0     91\n",
            "4.0     20\n",
            "Name: count, dtype: int64\n"
          ]
        }
      ],
      "source": [
        "print(df_cleaned[\"num\"].value_counts(normalize=True) * 100)\n",
        "print (df_cleaned[\"num\"].value_counts())"
      ]
    },
    {
      "cell_type": "markdown",
      "metadata": {
        "id": "W-3FqQFlg18f"
      },
      "source": [
        "0 = absence.\n",
        "1, 2, 3, 4 = present.\n",
        "The dataset has 509 instances with the disease present a 411 without it, so apparently, there isnt an imbalance of classes. So in this project isnt neccesarry to apply any balacing data technique."
      ]
    },
    {
      "cell_type": "markdown",
      "metadata": {
        "id": "5P9VzG9NgBvn"
      },
      "source": [
        "# Modeling the Data:"
      ]
    },
    {
      "cell_type": "markdown",
      "metadata": {
        "id": "LQ8oTHtcgJvA"
      },
      "source": [
        "### Without Data Standarization (WS):"
      ]
    },
    {
      "cell_type": "code",
      "execution_count": null,
      "metadata": {
        "id": "1SYVm6u7WXBl"
      },
      "outputs": [],
      "source": [
        "df = df_cleaned\n",
        "X = df_imputed.drop(\"num\",axis = 1)\n",
        "y = df_imputed[\"num\"]\n",
        "X_train, X_test, y_train, y_test = train_test_split(X,y,test_size= 0.3, random_state=42)"
      ]
    },
    {
      "cell_type": "markdown",
      "metadata": {
        "id": "VsMGtU0AgfH2"
      },
      "source": [
        "\n",
        "#### Logistic Regression (LS)"
      ]
    },
    {
      "cell_type": "code",
      "execution_count": null,
      "metadata": {
        "colab": {
          "base_uri": "https://localhost:8080/"
        },
        "id": "u2K8hmMP_6ay",
        "outputId": "ed7155d7-8188-4437-8da7-19a81891c688"
      },
      "outputs": [
        {
          "name": "stdout",
          "output_type": "stream",
          "text": [
            "Accuraccy Score:  0.5434782608695652\n",
            "Precision Score:  0.30182072829131656\n",
            "Recall Score:  0.3098290598290598\n",
            "F1 Score:  0.286883378888455\n"
          ]
        },
        {
          "name": "stderr",
          "output_type": "stream",
          "text": [
            "/usr/local/lib/python3.10/dist-packages/sklearn/linear_model/_logistic.py:458: ConvergenceWarning: lbfgs failed to converge (status=1):\n",
            "STOP: TOTAL NO. of ITERATIONS REACHED LIMIT.\n",
            "\n",
            "Increase the number of iterations (max_iter) or scale the data as shown in:\n",
            "    https://scikit-learn.org/stable/modules/preprocessing.html\n",
            "Please also refer to the documentation for alternative solver options:\n",
            "    https://scikit-learn.org/stable/modules/linear_model.html#logistic-regression\n",
            "  n_iter_i = _check_optimize_result(\n",
            "/usr/local/lib/python3.10/dist-packages/sklearn/metrics/_classification.py:1344: UndefinedMetricWarning: Precision is ill-defined and being set to 0.0 in labels with no predicted samples. Use `zero_division` parameter to control this behavior.\n",
            "  _warn_prf(average, modifier, msg_start, len(result))\n"
          ]
        }
      ],
      "source": [
        "logisticRegr = LogisticRegression()\n",
        "logisticRegr.fit(X_train, y_train)\n",
        "predictions = logisticRegr.predict(X_test)\n",
        "calculate_metrics_clasification(y_test, predictions)"
      ]
    },
    {
      "cell_type": "markdown",
      "metadata": {
        "id": "5Z6AJ8K8I_XT"
      },
      "source": [
        "#### Linear Discriminant Analysis (LDA)"
      ]
    },
    {
      "cell_type": "code",
      "execution_count": null,
      "metadata": {
        "colab": {
          "base_uri": "https://localhost:8080/"
        },
        "id": "CDLYWp7sI_db",
        "outputId": "bfc6936e-ac03-4b6d-fccc-ca1696f4de1e"
      },
      "outputs": [
        {
          "name": "stdout",
          "output_type": "stream",
          "text": [
            "Accuraccy Score:  0.5652173913043478\n",
            "Precision Score:  0.3655283582980814\n",
            "Recall Score:  0.35855706385118147\n",
            "F1 Score:  0.35169264598553684\n"
          ]
        }
      ],
      "source": [
        "lda = LinearDiscriminantAnalysis()\n",
        "lda.fit(X_train, y_train)\n",
        "predictions = lda.predict(X_test)\n",
        "calculate_metrics_clasification(y_test, predictions)"
      ]
    },
    {
      "cell_type": "markdown",
      "metadata": {
        "id": "qJhATUaxhdIr"
      },
      "source": [
        "#### K-Nearest Neighbors (KNN):"
      ]
    },
    {
      "cell_type": "code",
      "execution_count": null,
      "metadata": {
        "colab": {
          "base_uri": "https://localhost:8080/"
        },
        "id": "erHFTlP-_6d2",
        "outputId": "6a90d68b-1ca5-4cc3-e1e7-b0edbc892419"
      },
      "outputs": [
        {
          "name": "stdout",
          "output_type": "stream",
          "text": [
            "Accuraccy Score:  0.4528985507246377\n",
            "Precision Score:  0.2369648290130218\n",
            "Recall Score:  0.24545500251382601\n",
            "F1 Score:  0.22696512742279334\n"
          ]
        }
      ],
      "source": [
        "knn = KNeighborsClassifier()\n",
        "knn.fit(X_train, y_train)\n",
        "predictions = knn.predict(X_test)\n",
        "calculate_metrics_clasification(y_test, predictions)"
      ]
    },
    {
      "cell_type": "markdown",
      "metadata": {
        "id": "AHvOwpFeHMhf"
      },
      "source": [
        "#### Naïve Bayes (NB)"
      ]
    },
    {
      "cell_type": "code",
      "execution_count": null,
      "metadata": {
        "colab": {
          "base_uri": "https://localhost:8080/"
        },
        "id": "_OqUotYAJYlk",
        "outputId": "cbdf53f3-d8ab-4038-82ee-880f81904731"
      },
      "outputs": [
        {
          "name": "stdout",
          "output_type": "stream",
          "text": [
            "Accuraccy Score:  0.532608695652174\n",
            "Precision Score:  0.3366967526188413\n",
            "Recall Score:  0.3356963298139769\n",
            "F1 Score:  0.3223442495573643\n"
          ]
        }
      ],
      "source": [
        "nb = GaussianNB()\n",
        "nb.fit(X_train, y_train)\n",
        "predictions = nb.predict(X_test)\n",
        "calculate_metrics_clasification(y_test, predictions)"
      ]
    },
    {
      "cell_type": "markdown",
      "metadata": {
        "id": "ipHYhB_-CiWx"
      },
      "source": [
        "#### Support Vector Machine (SVM)"
      ]
    },
    {
      "cell_type": "code",
      "execution_count": null,
      "metadata": {
        "colab": {
          "base_uri": "https://localhost:8080/"
        },
        "id": "1r2CIoaPChQ4",
        "outputId": "a6567a2a-c527-4825-a753-a5012622de51"
      },
      "outputs": [
        {
          "name": "stdout",
          "output_type": "stream",
          "text": [
            "Accuraccy Score:  0.4782608695652174\n",
            "Precision Score:  0.16601319334757966\n",
            "Recall Score:  0.23346153846153847\n",
            "F1 Score:  0.1820974212034384\n"
          ]
        },
        {
          "name": "stderr",
          "output_type": "stream",
          "text": [
            "/usr/local/lib/python3.10/dist-packages/sklearn/metrics/_classification.py:1344: UndefinedMetricWarning: Precision is ill-defined and being set to 0.0 in labels with no predicted samples. Use `zero_division` parameter to control this behavior.\n",
            "  _warn_prf(average, modifier, msg_start, len(result))\n"
          ]
        }
      ],
      "source": [
        "svc = SVC()\n",
        "svc.fit(X_train, y_train)\n",
        "predictions = svc.predict(X_test)\n",
        "calculate_metrics_clasification(y_test, predictions)"
      ]
    },
    {
      "cell_type": "markdown",
      "metadata": {
        "id": "tomRPMp5JvX3"
      },
      "source": [
        "#### XGBoost Algorithm (XGB)"
      ]
    },
    {
      "cell_type": "code",
      "execution_count": null,
      "metadata": {
        "colab": {
          "base_uri": "https://localhost:8080/"
        },
        "id": "ywLX2BnBJvdH",
        "outputId": "ed201903-d146-4d02-cd62-dd36e70a91b4"
      },
      "outputs": [
        {
          "name": "stdout",
          "output_type": "stream",
          "text": [
            "Accuraccy Score:  0.5942028985507246\n",
            "Precision Score:  0.38930591684214877\n",
            "Recall Score:  0.38306938159879333\n",
            "F1 Score:  0.3830162613341241\n"
          ]
        }
      ],
      "source": [
        "xgb = XGBClassifier()\n",
        "xgb.fit(X_train, y_train)\n",
        "predictions = xgb.predict(X_test)\n",
        "calculate_metrics_clasification(y_test, predictions)"
      ]
    },
    {
      "cell_type": "markdown",
      "metadata": {
        "id": "HY8sm3XPDqZg"
      },
      "source": [
        "#### Decision Tree Classifier (DT)"
      ]
    },
    {
      "cell_type": "code",
      "execution_count": null,
      "metadata": {
        "colab": {
          "base_uri": "https://localhost:8080/"
        },
        "id": "Q-qlRnBWDqPT",
        "outputId": "a9b23cd9-14b6-4204-9a29-e02b9fe6089d"
      },
      "outputs": [
        {
          "name": "stdout",
          "output_type": "stream",
          "text": [
            "Accuraccy Score:  0.5108695652173914\n",
            "Precision Score:  0.35612765085586084\n",
            "Recall Score:  0.34432629462041225\n",
            "F1 Score:  0.3462347489658425\n"
          ]
        }
      ],
      "source": [
        "tree = DecisionTreeClassifier()\n",
        "tree.fit(X_train, y_train)\n",
        "predictions = tree.predict(X_test)\n",
        "calculate_metrics_clasification(y_test, predictions)"
      ]
    },
    {
      "cell_type": "markdown",
      "metadata": {
        "id": "lC75uNJLDrnR"
      },
      "source": [
        "#### Random Forest Classifier (RF)"
      ]
    },
    {
      "cell_type": "code",
      "execution_count": null,
      "metadata": {
        "colab": {
          "base_uri": "https://localhost:8080/"
        },
        "id": "zgCBI7iQ_6i4",
        "outputId": "a330c7ed-05aa-4322-9b24-dfec1c819058"
      },
      "outputs": [
        {
          "name": "stdout",
          "output_type": "stream",
          "text": [
            "Accuraccy Score:  0.5471014492753623\n",
            "Precision Score:  0.3143552546744036\n",
            "Recall Score:  0.32055304172951227\n",
            "F1 Score:  0.3088668462938139\n"
          ]
        }
      ],
      "source": [
        "forest = RandomForestClassifier()\n",
        "forest.fit(X_train, y_train)\n",
        "predictions = forest.predict(X_test)\n",
        "calculate_metrics_clasification(y_test, predictions)"
      ]
    },
    {
      "cell_type": "markdown",
      "metadata": {
        "id": "0d4RT5lbJoUH"
      },
      "source": [
        "#### Gradient Boost (GB)"
      ]
    },
    {
      "cell_type": "code",
      "execution_count": null,
      "metadata": {
        "colab": {
          "base_uri": "https://localhost:8080/"
        },
        "id": "9i3z5t_uHL-z",
        "outputId": "5d5d55a3-18fd-4847-d3b6-81b3bc3871ff"
      },
      "outputs": [
        {
          "name": "stdout",
          "output_type": "stream",
          "text": [
            "Accuraccy Score:  0.5797101449275363\n",
            "Precision Score:  0.41965240641711227\n",
            "Recall Score:  0.3877425842131724\n",
            "F1 Score:  0.39490509451599504\n"
          ]
        }
      ],
      "source": [
        "gb = GradientBoostingClassifier()\n",
        "gb.fit(X_train, y_train)\n",
        "predictions = gb.predict(X_test)\n",
        "calculate_metrics_clasification(y_test, predictions)"
      ]
    },
    {
      "cell_type": "markdown",
      "metadata": {
        "id": "f-U2S-twJM5r"
      },
      "source": [
        "#### AdaBoost (AB)"
      ]
    },
    {
      "cell_type": "code",
      "execution_count": null,
      "metadata": {
        "colab": {
          "base_uri": "https://localhost:8080/"
        },
        "id": "-exr0zdMJNAD",
        "outputId": "5879a782-7984-4dc4-b2b0-39142826bed2"
      },
      "outputs": [
        {
          "name": "stdout",
          "output_type": "stream",
          "text": [
            "Accuraccy Score:  0.5036231884057971\n",
            "Precision Score:  0.31895926777793854\n",
            "Recall Score:  0.3194268476621418\n",
            "F1 Score:  0.3168689712502942\n"
          ]
        }
      ],
      "source": [
        "ab = AdaBoostClassifier()\n",
        "ab.fit(X_train, y_train)\n",
        "predictions = ab.predict(X_test)\n",
        "calculate_metrics_clasification(y_test, predictions)"
      ]
    },
    {
      "cell_type": "markdown",
      "metadata": {
        "id": "t06-GF3sf75Q"
      },
      "source": [
        "#### Extra Tree classifier (ET)"
      ]
    },
    {
      "cell_type": "code",
      "execution_count": null,
      "metadata": {
        "colab": {
          "base_uri": "https://localhost:8080/"
        },
        "id": "adq7aNQ2J4A9",
        "outputId": "bcb2b789-6dd0-4bbe-f3cc-d04d37afd344"
      },
      "outputs": [
        {
          "name": "stdout",
          "output_type": "stream",
          "text": [
            "Accuraccy Score:  0.5543478260869565\n",
            "Precision Score:  0.3782889822595705\n",
            "Recall Score:  0.3523328305681247\n",
            "F1 Score:  0.35282390468148983\n"
          ]
        }
      ],
      "source": [
        "et = ExtraTreesClassifier()\n",
        "et.fit(X_train, y_train)\n",
        "predictions = et.predict(X_test)\n",
        "calculate_metrics_clasification(y_test, predictions)"
      ]
    },
    {
      "cell_type": "markdown",
      "metadata": {
        "id": "U-imocjbLJ2h"
      },
      "source": [
        "### With Data Standarization (S):"
      ]
    },
    {
      "cell_type": "markdown",
      "metadata": {
        "id": "dMBijkvwJ37Y"
      },
      "source": [
        "### Standscale (SS):"
      ]
    },
    {
      "cell_type": "code",
      "execution_count": null,
      "metadata": {
        "id": "_VrMz4OVjyrN"
      },
      "outputs": [],
      "source": [
        "from sklearn.preprocessing import StandardScaler"
      ]
    },
    {
      "cell_type": "markdown",
      "metadata": {
        "id": "R_Eh5CsVjwdt"
      },
      "source": [
        "\n",
        "#### Logistic Regression (LS)"
      ]
    },
    {
      "cell_type": "code",
      "execution_count": null,
      "metadata": {
        "colab": {
          "base_uri": "https://localhost:8080/"
        },
        "id": "vyCmqwrdLK_T",
        "outputId": "6688c354-8693-4c64-d585-a0af85936c47"
      },
      "outputs": [
        {
          "name": "stdout",
          "output_type": "stream",
          "text": [
            "Accuraccy Score:  0.5543478260869565\n",
            "Precision Score:  0.3714960564549606\n",
            "Recall Score:  0.34898692810457516\n",
            "F1 Score:  0.3462608707561253\n"
          ]
        }
      ],
      "source": [
        "pipeline = Pipeline([\n",
        "    ('scaler', StandardScaler()),\n",
        "    ('log_reg', LogisticRegression())\n",
        "])\n",
        "\n",
        "pipeline.fit(X_train, y_train)\n",
        "predictions = pipeline.predict(X_test)\n",
        "calculate_metrics_clasification(y_test, predictions)"
      ]
    },
    {
      "cell_type": "markdown",
      "metadata": {
        "id": "U6d3KXJjkOns"
      },
      "source": [
        "#### Linear Discriminant Analysis (LDA)"
      ]
    },
    {
      "cell_type": "code",
      "execution_count": null,
      "metadata": {
        "colab": {
          "base_uri": "https://localhost:8080/"
        },
        "id": "2JhqxAZkkPrK",
        "outputId": "376d27f9-198b-4362-c7ce-49dce6eba9be"
      },
      "outputs": [
        {
          "name": "stdout",
          "output_type": "stream",
          "text": [
            "Accuraccy Score:  0.5543478260869565\n",
            "Precision Score:  0.34248300368559387\n",
            "Recall Score:  0.34422825540472596\n",
            "F1 Score:  0.33377877587816734\n"
          ]
        }
      ],
      "source": [
        "pipeline = Pipeline([\n",
        "    ('scaler', StandardScaler()),\n",
        "    ('lda', LinearDiscriminantAnalysis())\n",
        "])\n",
        "pipeline.fit(X_train, y_train)\n",
        "predictions = pipeline.predict(X_test)\n",
        "calculate_metrics_clasification(y_test, predictions)"
      ]
    },
    {
      "cell_type": "markdown",
      "metadata": {
        "id": "nQNEjgAAkPFD"
      },
      "source": [
        "#### K-Nearest Neighbors (KNN):"
      ]
    },
    {
      "cell_type": "code",
      "execution_count": null,
      "metadata": {
        "colab": {
          "base_uri": "https://localhost:8080/"
        },
        "id": "jaQpoxKUkQyT",
        "outputId": "adce00cd-f345-4d94-afc9-a605633ba6ee"
      },
      "outputs": [
        {
          "name": "stdout",
          "output_type": "stream",
          "text": [
            "Accuraccy Score:  0.5507246376811594\n",
            "Precision Score:  0.3685739348370928\n",
            "Recall Score:  0.3388109602815485\n",
            "F1 Score:  0.33626343192644287\n"
          ]
        }
      ],
      "source": [
        "pipeline = Pipeline([\n",
        "    ('scaler', StandardScaler()),\n",
        "    ('knn', KNeighborsClassifier())\n",
        "])\n",
        "pipeline.fit(X_train, y_train)\n",
        "predictions = pipeline.predict(X_test)\n",
        "calculate_metrics_clasification(y_test, predictions)"
      ]
    },
    {
      "cell_type": "markdown",
      "metadata": {
        "id": "efROaABjkQ5B"
      },
      "source": [
        "#### Naïve Bayes (NB)"
      ]
    },
    {
      "cell_type": "code",
      "execution_count": null,
      "metadata": {
        "colab": {
          "base_uri": "https://localhost:8080/"
        },
        "id": "2k7bFGnckRCz",
        "outputId": "74f2c920-2f55-4268-a9cf-43ba6af25b2c"
      },
      "outputs": [
        {
          "name": "stdout",
          "output_type": "stream",
          "text": [
            "Accuraccy Score:  0.5217391304347826\n",
            "Precision Score:  0.32485486017544507\n",
            "Recall Score:  0.3283308195072901\n",
            "F1 Score:  0.31774225774225784\n"
          ]
        }
      ],
      "source": [
        "pipeline = Pipeline([\n",
        "    ('scaler', StandardScaler()),\n",
        "    ('nb', GaussianNB())\n",
        "])\n",
        "pipeline.fit(X_train, y_train)\n",
        "predictions = pipeline.predict(X_test)\n",
        "calculate_metrics_clasification(y_test, predictions)"
      ]
    },
    {
      "cell_type": "markdown",
      "metadata": {
        "id": "Ghc9HgrfkRJE"
      },
      "source": [
        "#### Support Vector Machine (SVM)"
      ]
    },
    {
      "cell_type": "code",
      "execution_count": null,
      "metadata": {
        "colab": {
          "base_uri": "https://localhost:8080/"
        },
        "id": "SY17onZ2kRP-",
        "outputId": "8c7b25c4-1aab-4b97-fae3-7172d55af68b"
      },
      "outputs": [
        {
          "name": "stdout",
          "output_type": "stream",
          "text": [
            "Accuraccy Score:  0.5181159420289855\n",
            "Precision Score:  0.2785402759234535\n",
            "Recall Score:  0.2910105580693816\n",
            "F1 Score:  0.2687506373750792\n"
          ]
        },
        {
          "name": "stderr",
          "output_type": "stream",
          "text": [
            "/usr/local/lib/python3.10/dist-packages/sklearn/metrics/_classification.py:1344: UndefinedMetricWarning: Precision is ill-defined and being set to 0.0 in labels with no predicted samples. Use `zero_division` parameter to control this behavior.\n",
            "  _warn_prf(average, modifier, msg_start, len(result))\n"
          ]
        }
      ],
      "source": [
        "pipeline = Pipeline([\n",
        "    ('scaler', StandardScaler()),\n",
        "    ('svc', SVC())\n",
        "])\n",
        "pipeline.fit(X_train, y_train)\n",
        "predictions = pipeline.predict(X_test)\n",
        "calculate_metrics_clasification(y_test, predictions)"
      ]
    },
    {
      "cell_type": "markdown",
      "metadata": {
        "id": "RGAyowDRkRX7"
      },
      "source": [
        "#### XGBoost Algorithm (XGB)"
      ]
    },
    {
      "cell_type": "code",
      "execution_count": null,
      "metadata": {
        "colab": {
          "base_uri": "https://localhost:8080/"
        },
        "id": "mKELetyUkRel",
        "outputId": "af1a9eff-ae4c-4278-c298-587e3269160c"
      },
      "outputs": [
        {
          "name": "stdout",
          "output_type": "stream",
          "text": [
            "Accuraccy Score:  0.5797101449275363\n",
            "Precision Score:  0.37099988413857027\n",
            "Recall Score:  0.3589969834087481\n",
            "F1 Score:  0.3570091271465208\n"
          ]
        }
      ],
      "source": [
        "pipeline = Pipeline([\n",
        "    ('scaler', StandardScaler()),\n",
        "    ('xgb', XGBClassifier())\n",
        "])\n",
        "pipeline.fit(X_train, y_train)\n",
        "predictions = pipeline.predict(X_test)\n",
        "calculate_metrics_clasification(y_test, predictions)"
      ]
    },
    {
      "cell_type": "markdown",
      "metadata": {
        "id": "4R4Ya6qakRkh"
      },
      "source": [
        "#### Decision Tree Classifier (DT)"
      ]
    },
    {
      "cell_type": "code",
      "execution_count": null,
      "metadata": {
        "colab": {
          "base_uri": "https://localhost:8080/"
        },
        "id": "gwLcI1OgkRqs",
        "outputId": "b7275775-ad7a-4942-beef-cfcfcf55eefd"
      },
      "outputs": [
        {
          "name": "stdout",
          "output_type": "stream",
          "text": [
            "Accuraccy Score:  0.5144927536231884\n",
            "Precision Score:  0.3355019898580058\n",
            "Recall Score:  0.33228758169934636\n",
            "F1 Score:  0.33303621147992263\n"
          ]
        }
      ],
      "source": [
        "pipeline = Pipeline([\n",
        "    ('scaler', StandardScaler()),\n",
        "    ('dt', DecisionTreeClassifier())\n",
        "])\n",
        "pipeline.fit(X_train, y_train)\n",
        "predictions = pipeline.predict(X_test)\n",
        "calculate_metrics_clasification(y_test, predictions)"
      ]
    },
    {
      "cell_type": "markdown",
      "metadata": {
        "id": "0D9pFlMhFn11"
      },
      "source": [
        "#### Random Forest Classifier (RF)"
      ]
    },
    {
      "cell_type": "code",
      "execution_count": null,
      "metadata": {
        "colab": {
          "base_uri": "https://localhost:8080/"
        },
        "id": "AFaFduWLFn90",
        "outputId": "0854579a-6705-42a9-f5d9-0512121828b8"
      },
      "outputs": [
        {
          "name": "stdout",
          "output_type": "stream",
          "text": [
            "Accuraccy Score:  0.5543478260869565\n",
            "Precision Score:  0.33511202233702464\n",
            "Recall Score:  0.33199095022624436\n",
            "F1 Score:  0.3244903937559188\n"
          ]
        }
      ],
      "source": [
        "pipeline = Pipeline([\n",
        "    ('scaler', StandardScaler()),\n",
        "    ('rf', RandomForestClassifier())\n",
        "])\n",
        "pipeline.fit(X_train, y_train)\n",
        "predictions = pipeline.predict(X_test)\n",
        "calculate_metrics_clasification(y_test, predictions)"
      ]
    },
    {
      "cell_type": "markdown",
      "metadata": {
        "id": "jBSY8zn0FoEu"
      },
      "source": [
        "#### Gradient Boost (GB)"
      ]
    },
    {
      "cell_type": "code",
      "execution_count": null,
      "metadata": {
        "colab": {
          "base_uri": "https://localhost:8080/"
        },
        "id": "0XoDTmfmFoKg",
        "outputId": "0c9ad0e0-dcda-42fb-ac2a-404f3915665d"
      },
      "outputs": [
        {
          "name": "stdout",
          "output_type": "stream",
          "text": [
            "Accuraccy Score:  0.572463768115942\n",
            "Precision Score:  0.34075772489529654\n",
            "Recall Score:  0.34124937154348917\n",
            "F1 Score:  0.33172740222659924\n"
          ]
        }
      ],
      "source": [
        "pipeline = Pipeline([\n",
        "    ('scaler', StandardScaler()),\n",
        "    ('gb', GradientBoostingClassifier())\n",
        "])\n",
        "pipeline.fit(X_train, y_train)\n",
        "predictions = pipeline.predict(X_test)\n",
        "calculate_metrics_clasification(y_test, predictions)"
      ]
    },
    {
      "cell_type": "markdown",
      "metadata": {
        "id": "HdqrCXsLFoUr"
      },
      "source": [
        "#### AdaBoost (AB)"
      ]
    },
    {
      "cell_type": "code",
      "execution_count": null,
      "metadata": {
        "colab": {
          "base_uri": "https://localhost:8080/"
        },
        "id": "FuwdOL8rFoYO",
        "outputId": "545e5541-a265-4ee1-c1f9-3fec23e3b5ff"
      },
      "outputs": [
        {
          "name": "stdout",
          "output_type": "stream",
          "text": [
            "Accuraccy Score:  0.5108695652173914\n",
            "Precision Score:  0.31435608902225554\n",
            "Recall Score:  0.31384112619406734\n",
            "F1 Score:  0.31084624913825265\n"
          ]
        }
      ],
      "source": [
        "pipeline = Pipeline([\n",
        "    ('scaler', StandardScaler()),\n",
        "    ('ab', AdaBoostClassifier())\n",
        "])\n",
        "pipeline.fit(X_train, y_train)\n",
        "predictions = pipeline.predict(X_test)\n",
        "calculate_metrics_clasification(y_test, predictions)"
      ]
    },
    {
      "cell_type": "markdown",
      "metadata": {
        "id": "bVBBxyHgH75m"
      },
      "source": [
        "#### Extra Tree classifier (ET)"
      ]
    },
    {
      "cell_type": "code",
      "execution_count": null,
      "metadata": {
        "colab": {
          "base_uri": "https://localhost:8080/"
        },
        "id": "otzFAkL-H7_b",
        "outputId": "e8d2ae59-da79-4a87-82f8-a4f7da862652"
      },
      "outputs": [
        {
          "name": "stdout",
          "output_type": "stream",
          "text": [
            "Accuraccy Score:  0.5398550724637681\n",
            "Precision Score:  0.30748556998557\n",
            "Recall Score:  0.3189869281045752\n",
            "F1 Score:  0.3074228733114275\n"
          ]
        }
      ],
      "source": [
        "pipeline = Pipeline([\n",
        "    ('scaler', StandardScaler()),\n",
        "    ('et', ExtraTreesClassifier())\n",
        "])\n",
        "pipeline.fit(X_train, y_train)\n",
        "predictions = pipeline.predict(X_test)\n",
        "calculate_metrics_clasification(y_test, predictions)"
      ]
    },
    {
      "cell_type": "markdown",
      "metadata": {
        "id": "1BB0caPmLLtX"
      },
      "source": [
        "### MinMax (MM):"
      ]
    },
    {
      "cell_type": "code",
      "execution_count": null,
      "metadata": {
        "id": "5fVapqcWLnZi"
      },
      "outputs": [],
      "source": [
        "from sklearn.preprocessing import MinMaxScaler"
      ]
    },
    {
      "cell_type": "markdown",
      "metadata": {
        "id": "0eUtTq0-KsfW"
      },
      "source": [
        "\n",
        "#### Logistic Regression (LC)"
      ]
    },
    {
      "cell_type": "code",
      "execution_count": null,
      "metadata": {
        "colab": {
          "base_uri": "https://localhost:8080/"
        },
        "id": "wkuldBJRKsqe",
        "outputId": "a7495c64-f2ab-4d1a-d4ea-1feaee907bb6"
      },
      "outputs": [
        {
          "name": "stdout",
          "output_type": "stream",
          "text": [
            "Accuraccy Score:  0.5507246376811594\n",
            "Precision Score:  0.3117823706059\n",
            "Recall Score:  0.3146857717445952\n",
            "F1 Score:  0.29707522578625345\n"
          ]
        },
        {
          "name": "stderr",
          "output_type": "stream",
          "text": [
            "/usr/local/lib/python3.10/dist-packages/sklearn/linear_model/_logistic.py:458: ConvergenceWarning: lbfgs failed to converge (status=1):\n",
            "STOP: TOTAL NO. of ITERATIONS REACHED LIMIT.\n",
            "\n",
            "Increase the number of iterations (max_iter) or scale the data as shown in:\n",
            "    https://scikit-learn.org/stable/modules/preprocessing.html\n",
            "Please also refer to the documentation for alternative solver options:\n",
            "    https://scikit-learn.org/stable/modules/linear_model.html#logistic-regression\n",
            "  n_iter_i = _check_optimize_result(\n"
          ]
        }
      ],
      "source": [
        "pipeline = Pipeline([\n",
        "    ('scaler', MinMaxScaler()),\n",
        "    ('log_reg', LogisticRegression())\n",
        "])\n",
        "\n",
        "pipeline.fit(X_train, y_train)\n",
        "predictions = pipeline.predict(X_test)\n",
        "calculate_metrics_clasification(y_test, predictions)"
      ]
    },
    {
      "cell_type": "markdown",
      "metadata": {
        "id": "AqQea8GFKs4Z"
      },
      "source": [
        "#### Linear Discriminant Analysis (LDA)"
      ]
    },
    {
      "cell_type": "code",
      "execution_count": null,
      "metadata": {
        "colab": {
          "base_uri": "https://localhost:8080/"
        },
        "id": "bX9zbhS-KtAB",
        "outputId": "ca00ac12-4395-4e3b-cde8-1b3fe215e79c"
      },
      "outputs": [
        {
          "name": "stdout",
          "output_type": "stream",
          "text": [
            "Accuraccy Score:  0.5543478260869565\n",
            "Precision Score:  0.34248300368559387\n",
            "Recall Score:  0.34422825540472596\n",
            "F1 Score:  0.33377877587816734\n"
          ]
        }
      ],
      "source": [
        "pipeline = Pipeline([\n",
        "    ('scaler', MinMaxScaler()),\n",
        "    ('lda', LinearDiscriminantAnalysis())\n",
        "])\n",
        "pipeline.fit(X_train, y_train)\n",
        "predictions = pipeline.predict(X_test)\n",
        "calculate_metrics_clasification(y_test, predictions)"
      ]
    },
    {
      "cell_type": "markdown",
      "metadata": {
        "id": "qkwBQPGdKtJf"
      },
      "source": [
        "#### K-Nearest Neighbors (KNN):"
      ]
    },
    {
      "cell_type": "code",
      "execution_count": null,
      "metadata": {
        "colab": {
          "base_uri": "https://localhost:8080/"
        },
        "id": "7u6bgUUKKtO2",
        "outputId": "eed474b8-fe5f-4006-db21-637196889597"
      },
      "outputs": [
        {
          "name": "stdout",
          "output_type": "stream",
          "text": [
            "Accuraccy Score:  0.5833333333333334\n",
            "Precision Score:  0.4019508448540707\n",
            "Recall Score:  0.3675439919557566\n",
            "F1 Score:  0.3690964344297677\n"
          ]
        }
      ],
      "source": [
        "pipeline = Pipeline([\n",
        "    ('scaler', MinMaxScaler()),\n",
        "    ('knn', KNeighborsClassifier())\n",
        "])\n",
        "pipeline.fit(X_train, y_train)\n",
        "predictions = pipeline.predict(X_test)\n",
        "calculate_metrics_clasification(y_test, predictions)"
      ]
    },
    {
      "cell_type": "markdown",
      "metadata": {
        "id": "ekzPrKxoKtUz"
      },
      "source": [
        "#### Naïve Bayes (NB)"
      ]
    },
    {
      "cell_type": "code",
      "execution_count": null,
      "metadata": {
        "colab": {
          "base_uri": "https://localhost:8080/"
        },
        "id": "wwXorbPYKtcW",
        "outputId": "16fd6304-057a-428b-be40-fef4b6973c57"
      },
      "outputs": [
        {
          "name": "stdout",
          "output_type": "stream",
          "text": [
            "Accuraccy Score:  0.5217391304347826\n",
            "Precision Score:  0.32485486017544507\n",
            "Recall Score:  0.3283308195072901\n",
            "F1 Score:  0.31774225774225784\n"
          ]
        }
      ],
      "source": [
        "pipeline = Pipeline([\n",
        "    ('scaler', MinMaxScaler()),\n",
        "    ('nb', GaussianNB())\n",
        "])\n",
        "pipeline.fit(X_train, y_train)\n",
        "predictions = pipeline.predict(X_test)\n",
        "calculate_metrics_clasification(y_test, predictions)"
      ]
    },
    {
      "cell_type": "markdown",
      "metadata": {
        "id": "rSx8X-VxKtih"
      },
      "source": [
        "#### Support Vector Machine (SVM)"
      ]
    },
    {
      "cell_type": "code",
      "execution_count": null,
      "metadata": {
        "colab": {
          "base_uri": "https://localhost:8080/"
        },
        "id": "L9GbA17rKtog",
        "outputId": "8774d023-4039-43af-a08a-cff3d3de6f4e"
      },
      "outputs": [
        {
          "name": "stdout",
          "output_type": "stream",
          "text": [
            "Accuraccy Score:  0.5289855072463768\n",
            "Precision Score:  0.20722128378378377\n",
            "Recall Score:  0.28551282051282045\n",
            "F1 Score:  0.2390233299521808\n"
          ]
        },
        {
          "name": "stderr",
          "output_type": "stream",
          "text": [
            "/usr/local/lib/python3.10/dist-packages/sklearn/metrics/_classification.py:1344: UndefinedMetricWarning: Precision is ill-defined and being set to 0.0 in labels with no predicted samples. Use `zero_division` parameter to control this behavior.\n",
            "  _warn_prf(average, modifier, msg_start, len(result))\n"
          ]
        }
      ],
      "source": [
        "pipeline = Pipeline([\n",
        "    ('scaler', MinMaxScaler()),\n",
        "    ('svc', SVC())\n",
        "])\n",
        "pipeline.fit(X_train, y_train)\n",
        "predictions = pipeline.predict(X_test)\n",
        "calculate_metrics_clasification(y_test, predictions)"
      ]
    },
    {
      "cell_type": "markdown",
      "metadata": {
        "id": "WNrd6kX5KtuH"
      },
      "source": [
        "#### XGBoost Algorithm (XGB)"
      ]
    },
    {
      "cell_type": "code",
      "execution_count": null,
      "metadata": {
        "colab": {
          "base_uri": "https://localhost:8080/"
        },
        "id": "s9ePi0O5Kt0X",
        "outputId": "b45bb33d-e27c-4383-fcc3-38915e89d017"
      },
      "outputs": [
        {
          "name": "stdout",
          "output_type": "stream",
          "text": [
            "Accuraccy Score:  0.5797101449275363\n",
            "Precision Score:  0.37099988413857027\n",
            "Recall Score:  0.3589969834087481\n",
            "F1 Score:  0.3570091271465208\n"
          ]
        }
      ],
      "source": [
        "pipeline = Pipeline([\n",
        "    ('scaler', MinMaxScaler()),\n",
        "    ('xgb', XGBClassifier())\n",
        "])\n",
        "pipeline.fit(X_train, y_train)\n",
        "predictions = pipeline.predict(X_test)\n",
        "calculate_metrics_clasification(y_test, predictions)"
      ]
    },
    {
      "cell_type": "markdown",
      "metadata": {
        "id": "ueocqh7rUFBK"
      },
      "source": [
        "#### Decision Tree Classifier (DT)"
      ]
    },
    {
      "cell_type": "code",
      "execution_count": null,
      "metadata": {
        "colab": {
          "base_uri": "https://localhost:8080/"
        },
        "id": "nBacjTAvUFHt",
        "outputId": "65c0ff38-f2ed-467e-f718-f78d9d2187ec"
      },
      "outputs": [
        {
          "name": "stdout",
          "output_type": "stream",
          "text": [
            "Accuraccy Score:  0.5108695652173914\n",
            "Precision Score:  0.3383745017602048\n",
            "Recall Score:  0.3395123177476119\n",
            "F1 Score:  0.33765475116434496\n"
          ]
        }
      ],
      "source": [
        "pipeline = Pipeline([\n",
        "    ('scaler', MinMaxScaler()),\n",
        "    ('dt', DecisionTreeClassifier())\n",
        "])\n",
        "pipeline.fit(X_train, y_train)\n",
        "predictions = pipeline.predict(X_test)\n",
        "calculate_metrics_clasification(y_test, predictions)"
      ]
    },
    {
      "cell_type": "markdown",
      "metadata": {
        "id": "wU2j11TyUFOs"
      },
      "source": [
        "#### Random Forest Classifier (RF)"
      ]
    },
    {
      "cell_type": "code",
      "execution_count": null,
      "metadata": {
        "colab": {
          "base_uri": "https://localhost:8080/"
        },
        "id": "2HCiF2qjUFVz",
        "outputId": "f43e745d-435c-44e9-d3c7-55a96e1a9761"
      },
      "outputs": [
        {
          "name": "stdout",
          "output_type": "stream",
          "text": [
            "Accuraccy Score:  0.5615942028985508\n",
            "Precision Score:  0.35621417106168307\n",
            "Recall Score:  0.3422046254399196\n",
            "F1 Score:  0.3382558502155948\n"
          ]
        }
      ],
      "source": [
        "pipeline = Pipeline([\n",
        "    ('scaler', MinMaxScaler()),\n",
        "    ('rf', RandomForestClassifier())\n",
        "])\n",
        "pipeline.fit(X_train, y_train)\n",
        "predictions = pipeline.predict(X_test)\n",
        "calculate_metrics_clasification(y_test, predictions)"
      ]
    },
    {
      "cell_type": "markdown",
      "metadata": {
        "id": "6KdMJX-oUdEi"
      },
      "source": [
        "#### Gradient Boost (GB)"
      ]
    },
    {
      "cell_type": "code",
      "execution_count": null,
      "metadata": {
        "colab": {
          "base_uri": "https://localhost:8080/"
        },
        "id": "UKewm0hFUdJz",
        "outputId": "90852d87-ceec-48ef-9fdc-2c2a69cb70a0"
      },
      "outputs": [
        {
          "name": "stdout",
          "output_type": "stream",
          "text": [
            "Accuraccy Score:  0.5760869565217391\n",
            "Precision Score:  0.3534705882352941\n",
            "Recall Score:  0.34713172448466567\n",
            "F1 Score:  0.3395219617305291\n"
          ]
        }
      ],
      "source": [
        "pipeline = Pipeline([\n",
        "    ('scaler', MinMaxScaler()),\n",
        "    ('gb', GradientBoostingClassifier())\n",
        "])\n",
        "pipeline.fit(X_train, y_train)\n",
        "predictions = pipeline.predict(X_test)\n",
        "calculate_metrics_clasification(y_test, predictions)"
      ]
    },
    {
      "cell_type": "markdown",
      "metadata": {
        "id": "bOkAIdQHUdQL"
      },
      "source": [
        "#### AdaBoost (AB)"
      ]
    },
    {
      "cell_type": "code",
      "execution_count": null,
      "metadata": {
        "colab": {
          "base_uri": "https://localhost:8080/"
        },
        "id": "dR-LdzK-UdVi",
        "outputId": "556e400a-a70f-4e58-bd03-1ccfdffdb525"
      },
      "outputs": [
        {
          "name": "stdout",
          "output_type": "stream",
          "text": [
            "Accuraccy Score:  0.5108695652173914\n",
            "Precision Score:  0.31435608902225554\n",
            "Recall Score:  0.31384112619406734\n",
            "F1 Score:  0.31084624913825265\n"
          ]
        }
      ],
      "source": [
        "pipeline = Pipeline([\n",
        "    ('scaler', MinMaxScaler()),\n",
        "    ('ab', AdaBoostClassifier())\n",
        "])\n",
        "pipeline.fit(X_train, y_train)\n",
        "predictions = pipeline.predict(X_test)\n",
        "calculate_metrics_clasification(y_test, predictions)"
      ]
    },
    {
      "cell_type": "markdown",
      "metadata": {
        "id": "2lSv2LloUdcb"
      },
      "source": [
        "#### Extra Tree classifier (ET)"
      ]
    },
    {
      "cell_type": "code",
      "execution_count": null,
      "metadata": {
        "colab": {
          "base_uri": "https://localhost:8080/"
        },
        "id": "_YIEJOkYKuzM",
        "outputId": "e619eea6-c32b-4950-8bd8-4ac51fc5d8b9"
      },
      "outputs": [
        {
          "name": "stdout",
          "output_type": "stream",
          "text": [
            "Accuraccy Score:  0.5471014492753623\n",
            "Precision Score:  0.33486332109343125\n",
            "Recall Score:  0.330507792860734\n",
            "F1 Score:  0.32584473357598076\n"
          ]
        }
      ],
      "source": [
        "pipeline = Pipeline([\n",
        "    ('scaler', MinMaxScaler()),\n",
        "    ('et', ExtraTreesClassifier())\n",
        "])\n",
        "pipeline.fit(X_train, y_train)\n",
        "predictions = pipeline.predict(X_test)\n",
        "calculate_metrics_clasification(y_test, predictions)"
      ]
    },
    {
      "cell_type": "markdown",
      "metadata": {
        "id": "xeeK01ODLola"
      },
      "source": [
        "### MaxAbs (MA):"
      ]
    },
    {
      "cell_type": "code",
      "execution_count": null,
      "metadata": {
        "id": "REgtCKberVXt"
      },
      "outputs": [],
      "source": [
        "from sklearn.preprocessing import MaxAbsScaler"
      ]
    },
    {
      "cell_type": "markdown",
      "metadata": {
        "id": "sSecfURzrRqI"
      },
      "source": [
        "\n",
        "#### Logistic Regression:"
      ]
    },
    {
      "cell_type": "code",
      "execution_count": null,
      "metadata": {
        "colab": {
          "base_uri": "https://localhost:8080/"
        },
        "id": "Rp2pkEoRLqin",
        "outputId": "4e94e7c3-f8ea-40b5-a7ad-628b05432b74"
      },
      "outputs": [
        {
          "name": "stdout",
          "output_type": "stream",
          "text": [
            "Accuraccy Score:  0.5579710144927537\n",
            "Precision Score:  0.32721410711935783\n",
            "Recall Score:  0.32190799396681746\n",
            "F1 Score:  0.3047501811975404\n"
          ]
        },
        {
          "name": "stderr",
          "output_type": "stream",
          "text": [
            "/usr/local/lib/python3.10/dist-packages/sklearn/linear_model/_logistic.py:458: ConvergenceWarning: lbfgs failed to converge (status=1):\n",
            "STOP: TOTAL NO. of ITERATIONS REACHED LIMIT.\n",
            "\n",
            "Increase the number of iterations (max_iter) or scale the data as shown in:\n",
            "    https://scikit-learn.org/stable/modules/preprocessing.html\n",
            "Please also refer to the documentation for alternative solver options:\n",
            "    https://scikit-learn.org/stable/modules/linear_model.html#logistic-regression\n",
            "  n_iter_i = _check_optimize_result(\n"
          ]
        }
      ],
      "source": [
        "pipeline = Pipeline([\n",
        "    ('scaler', MaxAbsScaler()),\n",
        "    ('log_reg', LogisticRegression())\n",
        "])\n",
        "\n",
        "pipeline.fit(X_train, y_train)\n",
        "predictions = pipeline.predict(X_test)\n",
        "calculate_metrics_clasification(y_test, predictions)"
      ]
    },
    {
      "cell_type": "markdown",
      "metadata": {
        "id": "n4CLdQWfrFC8"
      },
      "source": [
        "#### Linear Discriminant Analysis (LDA)"
      ]
    },
    {
      "cell_type": "code",
      "execution_count": null,
      "metadata": {
        "colab": {
          "base_uri": "https://localhost:8080/"
        },
        "id": "VppqRZFXrFK-",
        "outputId": "e4abd76f-f797-428f-927c-504302762e8b"
      },
      "outputs": [
        {
          "name": "stdout",
          "output_type": "stream",
          "text": [
            "Accuraccy Score:  0.5543478260869565\n",
            "Precision Score:  0.34248300368559387\n",
            "Recall Score:  0.34422825540472596\n",
            "F1 Score:  0.33377877587816734\n"
          ]
        }
      ],
      "source": [
        "pipeline = Pipeline([\n",
        "    ('scaler', MaxAbsScaler()),\n",
        "    ('lda', LinearDiscriminantAnalysis())\n",
        "])\n",
        "pipeline.fit(X_train, y_train)\n",
        "predictions = pipeline.predict(X_test)\n",
        "calculate_metrics_clasification(y_test, predictions)"
      ]
    },
    {
      "cell_type": "markdown",
      "metadata": {
        "id": "Hoh8c4ehrFSA"
      },
      "source": [
        "#### K-Nearest Neighbors (KNN):"
      ]
    },
    {
      "cell_type": "code",
      "execution_count": null,
      "metadata": {
        "colab": {
          "base_uri": "https://localhost:8080/"
        },
        "id": "Ka54aujjrFZl",
        "outputId": "dea229e1-0dfc-48a2-c294-94f16686b809"
      },
      "outputs": [
        {
          "name": "stdout",
          "output_type": "stream",
          "text": [
            "Accuraccy Score:  0.5833333333333334\n",
            "Precision Score:  0.3901143790849673\n",
            "Recall Score:  0.3603368526897939\n",
            "F1 Score:  0.3584050487664946\n"
          ]
        }
      ],
      "source": [
        "pipeline = Pipeline([\n",
        "    ('scaler', MaxAbsScaler()),\n",
        "    ('knn', KNeighborsClassifier())\n",
        "])\n",
        "pipeline.fit(X_train, y_train)\n",
        "predictions = pipeline.predict(X_test)\n",
        "calculate_metrics_clasification(y_test, predictions)"
      ]
    },
    {
      "cell_type": "markdown",
      "metadata": {
        "id": "c3UwVCyrqomM"
      },
      "source": [
        "#### Naïve Bayes (NB)"
      ]
    },
    {
      "cell_type": "code",
      "execution_count": null,
      "metadata": {
        "colab": {
          "base_uri": "https://localhost:8080/"
        },
        "id": "HhbmVQhvqosZ",
        "outputId": "1a8b0438-470f-4e40-fe50-dd064eea8f6f"
      },
      "outputs": [
        {
          "name": "stdout",
          "output_type": "stream",
          "text": [
            "Accuraccy Score:  0.5217391304347826\n",
            "Precision Score:  0.32485486017544507\n",
            "Recall Score:  0.3283308195072901\n",
            "F1 Score:  0.31774225774225784\n"
          ]
        }
      ],
      "source": [
        "pipeline = Pipeline([\n",
        "    ('scaler', MaxAbsScaler()),\n",
        "    ('nb', GaussianNB())\n",
        "])\n",
        "pipeline.fit(X_train, y_train)\n",
        "predictions = pipeline.predict(X_test)\n",
        "calculate_metrics_clasification(y_test, predictions)"
      ]
    },
    {
      "cell_type": "markdown",
      "metadata": {
        "id": "IWZHTF3JqoxG"
      },
      "source": [
        "#### Support Vector Machine (SVM)"
      ]
    },
    {
      "cell_type": "code",
      "execution_count": null,
      "metadata": {
        "colab": {
          "base_uri": "https://localhost:8080/"
        },
        "id": "ZiUqHF5Fqo2U",
        "outputId": "892aee3c-8c66-4ee2-9dd9-7692fa29fcb9"
      },
      "outputs": [
        {
          "name": "stdout",
          "output_type": "stream",
          "text": [
            "Accuraccy Score:  0.5217391304347826\n",
            "Precision Score:  0.20509682911257715\n",
            "Recall Score:  0.28217948717948715\n",
            "F1 Score:  0.2364834364761558\n"
          ]
        },
        {
          "name": "stderr",
          "output_type": "stream",
          "text": [
            "/usr/local/lib/python3.10/dist-packages/sklearn/metrics/_classification.py:1344: UndefinedMetricWarning: Precision is ill-defined and being set to 0.0 in labels with no predicted samples. Use `zero_division` parameter to control this behavior.\n",
            "  _warn_prf(average, modifier, msg_start, len(result))\n"
          ]
        }
      ],
      "source": [
        "pipeline = Pipeline([\n",
        "    ('scaler', MaxAbsScaler()),\n",
        "    ('svc', SVC())\n",
        "])\n",
        "pipeline.fit(X_train, y_train)\n",
        "predictions = pipeline.predict(X_test)\n",
        "calculate_metrics_clasification(y_test, predictions)"
      ]
    },
    {
      "cell_type": "markdown",
      "metadata": {
        "id": "8VRpZPpBqo60"
      },
      "source": [
        "#### XGBoost Algorithm (XGB)"
      ]
    },
    {
      "cell_type": "code",
      "execution_count": null,
      "metadata": {
        "colab": {
          "base_uri": "https://localhost:8080/"
        },
        "id": "q0iP2Lpfqo_u",
        "outputId": "a6630f59-9886-4516-be3f-daf613a7a480"
      },
      "outputs": [
        {
          "name": "stdout",
          "output_type": "stream",
          "text": [
            "Accuraccy Score:  0.5797101449275363\n",
            "Precision Score:  0.37099988413857027\n",
            "Recall Score:  0.3589969834087481\n",
            "F1 Score:  0.3570091271465208\n"
          ]
        }
      ],
      "source": [
        "pipeline = Pipeline([\n",
        "    ('scaler', MaxAbsScaler()),\n",
        "    ('xgb', XGBClassifier())\n",
        "])\n",
        "pipeline.fit(X_train, y_train)\n",
        "predictions = pipeline.predict(X_test)\n",
        "calculate_metrics_clasification(y_test, predictions)"
      ]
    },
    {
      "cell_type": "markdown",
      "metadata": {
        "id": "oS_4yi2uqpED"
      },
      "source": [
        "#### Decision Tree Classifier (DT)"
      ]
    },
    {
      "cell_type": "code",
      "execution_count": null,
      "metadata": {
        "colab": {
          "base_uri": "https://localhost:8080/"
        },
        "id": "D38MeolcqpJT",
        "outputId": "2b83d182-748d-4ec3-c451-597a71090a24"
      },
      "outputs": [
        {
          "name": "stdout",
          "output_type": "stream",
          "text": [
            "Accuraccy Score:  0.4963768115942029\n",
            "Precision Score:  0.3452821795350315\n",
            "Recall Score:  0.3391553544494721\n",
            "F1 Score:  0.34118714390179994\n"
          ]
        }
      ],
      "source": [
        "pipeline = Pipeline([\n",
        "    ('scaler', MaxAbsScaler()),\n",
        "    ('dt', DecisionTreeClassifier())\n",
        "])\n",
        "pipeline.fit(X_train, y_train)\n",
        "predictions = pipeline.predict(X_test)\n",
        "calculate_metrics_clasification(y_test, predictions)"
      ]
    },
    {
      "cell_type": "markdown",
      "metadata": {
        "id": "rk6pPG_VqpYW"
      },
      "source": [
        "#### Random Forest Classifier (RF)"
      ]
    },
    {
      "cell_type": "code",
      "execution_count": null,
      "metadata": {
        "colab": {
          "base_uri": "https://localhost:8080/"
        },
        "id": "Sd9oUvvJqqGn",
        "outputId": "f4458576-e16c-4fb6-b810-6d5129f3ef0d"
      },
      "outputs": [
        {
          "name": "stdout",
          "output_type": "stream",
          "text": [
            "Accuraccy Score:  0.5579710144927537\n",
            "Precision Score:  0.34962502268970985\n",
            "Recall Score:  0.34238813474107593\n",
            "F1 Score:  0.33895195077245355\n"
          ]
        }
      ],
      "source": [
        "pipeline = Pipeline([\n",
        "    ('scaler', MaxAbsScaler()),\n",
        "    ('rf', RandomForestClassifier())\n",
        "])\n",
        "pipeline.fit(X_train, y_train)\n",
        "predictions = pipeline.predict(X_test)\n",
        "calculate_metrics_clasification(y_test, predictions)"
      ]
    },
    {
      "cell_type": "markdown",
      "metadata": {
        "id": "cXWX3x28qe0c"
      },
      "source": [
        "#### Gradient Boost (GB)"
      ]
    },
    {
      "cell_type": "code",
      "execution_count": null,
      "metadata": {
        "colab": {
          "base_uri": "https://localhost:8080/"
        },
        "id": "HkF7nFSsqe6s",
        "outputId": "631d0f26-9842-4b65-a6e7-52feb63fa6df"
      },
      "outputs": [
        {
          "name": "stdout",
          "output_type": "stream",
          "text": [
            "Accuraccy Score:  0.5652173913043478\n",
            "Precision Score:  0.3265681720597994\n",
            "Recall Score:  0.333129713423831\n",
            "F1 Score:  0.3216847457719291\n"
          ]
        }
      ],
      "source": [
        "pipeline = Pipeline([\n",
        "    ('scaler', MaxAbsScaler()),\n",
        "    ('gb', GradientBoostingClassifier())\n",
        "])\n",
        "pipeline.fit(X_train, y_train)\n",
        "predictions = pipeline.predict(X_test)\n",
        "calculate_metrics_clasification(y_test, predictions)"
      ]
    },
    {
      "cell_type": "markdown",
      "metadata": {
        "id": "deicTJWVqe_4"
      },
      "source": [
        "#### AdaBoost (AB)"
      ]
    },
    {
      "cell_type": "code",
      "execution_count": null,
      "metadata": {
        "colab": {
          "base_uri": "https://localhost:8080/"
        },
        "id": "HdEqRXqmqfFZ",
        "outputId": "087c4494-b1ba-465f-aefd-5fc2ef26459d"
      },
      "outputs": [
        {
          "name": "stdout",
          "output_type": "stream",
          "text": [
            "Accuraccy Score:  0.5108695652173914\n",
            "Precision Score:  0.31435608902225554\n",
            "Recall Score:  0.31384112619406734\n",
            "F1 Score:  0.31084624913825265\n"
          ]
        }
      ],
      "source": [
        "pipeline = Pipeline([\n",
        "    ('scaler', MaxAbsScaler()),\n",
        "    ('ab', AdaBoostClassifier())\n",
        "])\n",
        "pipeline.fit(X_train, y_train)\n",
        "predictions = pipeline.predict(X_test)\n",
        "calculate_metrics_clasification(y_test, predictions)"
      ]
    },
    {
      "cell_type": "markdown",
      "metadata": {
        "id": "lGGC2eI-qfLL"
      },
      "source": [
        "#### Extra Tree classifier (ET)"
      ]
    },
    {
      "cell_type": "code",
      "execution_count": null,
      "metadata": {
        "colab": {
          "base_uri": "https://localhost:8080/"
        },
        "id": "Jp9kQiHYqfPz",
        "outputId": "384eac4c-4b52-4ac1-d63f-9b65c9aeb5f6"
      },
      "outputs": [
        {
          "name": "stdout",
          "output_type": "stream",
          "text": [
            "Accuraccy Score:  0.5579710144927537\n",
            "Precision Score:  0.3532112241751465\n",
            "Recall Score:  0.33634992458521873\n",
            "F1 Score:  0.3314912120760055\n"
          ]
        }
      ],
      "source": [
        "pipeline = Pipeline([\n",
        "    ('scaler', MaxAbsScaler()),\n",
        "    ('et', ExtraTreesClassifier())\n",
        "])\n",
        "pipeline.fit(X_train, y_train)\n",
        "predictions = pipeline.predict(X_test)\n",
        "calculate_metrics_clasification(y_test, predictions)"
      ]
    },
    {
      "cell_type": "markdown",
      "metadata": {
        "id": "csoZn7rbLqox"
      },
      "source": [
        "### Robust Scaler (RS):"
      ]
    },
    {
      "cell_type": "code",
      "execution_count": null,
      "metadata": {
        "id": "mU9RrRn_LvsP"
      },
      "outputs": [],
      "source": [
        "from sklearn.preprocessing import RobustScaler"
      ]
    },
    {
      "cell_type": "markdown",
      "metadata": {
        "id": "v-N5IuamFk5j"
      },
      "source": [
        "\n",
        "#### Logistic Regression:"
      ]
    },
    {
      "cell_type": "code",
      "execution_count": null,
      "metadata": {
        "colab": {
          "base_uri": "https://localhost:8080/"
        },
        "id": "qkaWcHlIFk_d",
        "outputId": "378688ca-35a2-4a6f-bab2-a956c5e501c9"
      },
      "outputs": [
        {
          "name": "stdout",
          "output_type": "stream",
          "text": [
            "Accuraccy Score:  0.572463768115942\n",
            "Precision Score:  0.4192831541218638\n",
            "Recall Score:  0.37176219205630967\n",
            "F1 Score:  0.37763185018824114\n"
          ]
        }
      ],
      "source": [
        "pipeline = Pipeline([\n",
        "    ('scaler', RobustScaler()),\n",
        "    ('log_reg', LogisticRegression())\n",
        "])\n",
        "\n",
        "pipeline.fit(X_train, y_train)\n",
        "predictions = pipeline.predict(X_test)\n",
        "calculate_metrics_clasification(y_test, predictions)"
      ]
    },
    {
      "cell_type": "markdown",
      "metadata": {
        "id": "64h1Q3q2FlS7"
      },
      "source": [
        "#### Linear Discriminant Analysis (LDA)"
      ]
    },
    {
      "cell_type": "code",
      "execution_count": null,
      "metadata": {
        "colab": {
          "base_uri": "https://localhost:8080/"
        },
        "id": "yMLq-TvEFlXu",
        "outputId": "b8c9df6d-7a83-4362-d3a3-f8985dc5da24"
      },
      "outputs": [
        {
          "name": "stdout",
          "output_type": "stream",
          "text": [
            "Accuraccy Score:  0.5652173913043478\n",
            "Precision Score:  0.3655283582980814\n",
            "Recall Score:  0.35855706385118147\n",
            "F1 Score:  0.35169264598553684\n"
          ]
        }
      ],
      "source": [
        "pipeline = Pipeline([\n",
        "    ('scaler', RobustScaler()),\n",
        "    ('lda', LinearDiscriminantAnalysis())\n",
        "])\n",
        "pipeline.fit(X_train, y_train)\n",
        "predictions = pipeline.predict(X_test)\n",
        "calculate_metrics_clasification(y_test, predictions)"
      ]
    },
    {
      "cell_type": "markdown",
      "metadata": {
        "id": "Ig1ESOOzFN9m"
      },
      "source": [
        "#### K-Nearest Neighbors (KNN):"
      ]
    },
    {
      "cell_type": "code",
      "execution_count": null,
      "metadata": {
        "colab": {
          "base_uri": "https://localhost:8080/"
        },
        "id": "5YGjLE8tFOFt",
        "outputId": "0e6fcb0f-aa48-44ba-8bb9-92350e89c90f"
      },
      "outputs": [
        {
          "name": "stdout",
          "output_type": "stream",
          "text": [
            "Accuraccy Score:  0.5543478260869565\n",
            "Precision Score:  0.331952467403862\n",
            "Recall Score:  0.3320462543991956\n",
            "F1 Score:  0.32522078936154036\n"
          ]
        }
      ],
      "source": [
        "pipeline = Pipeline([\n",
        "    ('scaler', RobustScaler()),\n",
        "    ('knn', KNeighborsClassifier())\n",
        "])\n",
        "pipeline.fit(X_train, y_train)\n",
        "predictions = pipeline.predict(X_test)\n",
        "calculate_metrics_clasification(y_test, predictions)"
      ]
    },
    {
      "cell_type": "markdown",
      "metadata": {
        "id": "-vS-boGmimyd"
      },
      "source": [
        "#### Naïve Bayes (NB)"
      ]
    },
    {
      "cell_type": "code",
      "execution_count": null,
      "metadata": {
        "colab": {
          "base_uri": "https://localhost:8080/"
        },
        "id": "8M1NVnTRim4Y",
        "outputId": "841885d6-878a-4e30-e06d-a09a22d3e895"
      },
      "outputs": [
        {
          "name": "stdout",
          "output_type": "stream",
          "text": [
            "Accuraccy Score:  0.532608695652174\n",
            "Precision Score:  0.3366967526188413\n",
            "Recall Score:  0.3356963298139769\n",
            "F1 Score:  0.3223442495573643\n"
          ]
        }
      ],
      "source": [
        "pipeline = Pipeline([\n",
        "    ('scaler', RobustScaler()),\n",
        "    ('nb', GaussianNB())\n",
        "])\n",
        "pipeline.fit(X_train, y_train)\n",
        "predictions = pipeline.predict(X_test)\n",
        "calculate_metrics_clasification(y_test, predictions)"
      ]
    },
    {
      "cell_type": "markdown",
      "metadata": {
        "id": "I9HCQ984E6qZ"
      },
      "source": [
        "#### Support Vector Machine (SVM)"
      ]
    },
    {
      "cell_type": "code",
      "execution_count": null,
      "metadata": {
        "colab": {
          "base_uri": "https://localhost:8080/"
        },
        "id": "_uQ-bNiwE6vU",
        "outputId": "2a740724-2ac6-4b8e-8d21-9c4def6bc1d5"
      },
      "outputs": [
        {
          "name": "stdout",
          "output_type": "stream",
          "text": [
            "Accuraccy Score:  0.5471014492753623\n",
            "Precision Score:  0.29709241952232607\n",
            "Recall Score:  0.3127199597787833\n",
            "F1 Score:  0.29104616732523714\n"
          ]
        },
        {
          "name": "stderr",
          "output_type": "stream",
          "text": [
            "/usr/local/lib/python3.10/dist-packages/sklearn/metrics/_classification.py:1344: UndefinedMetricWarning: Precision is ill-defined and being set to 0.0 in labels with no predicted samples. Use `zero_division` parameter to control this behavior.\n",
            "  _warn_prf(average, modifier, msg_start, len(result))\n"
          ]
        }
      ],
      "source": [
        "pipeline = Pipeline([\n",
        "    ('scaler', RobustScaler()),\n",
        "    ('svc', SVC())\n",
        "])\n",
        "pipeline.fit(X_train, y_train)\n",
        "predictions = pipeline.predict(X_test)\n",
        "calculate_metrics_clasification(y_test, predictions)"
      ]
    },
    {
      "cell_type": "markdown",
      "metadata": {
        "id": "HeP8fdyzE61t"
      },
      "source": [
        "#### XGBoost Algorithm (XGB)"
      ]
    },
    {
      "cell_type": "code",
      "execution_count": null,
      "metadata": {
        "colab": {
          "base_uri": "https://localhost:8080/"
        },
        "id": "1wKZ4JJEE67z",
        "outputId": "5e2cc24d-935a-445b-d567-b672130ea83d"
      },
      "outputs": [
        {
          "name": "stdout",
          "output_type": "stream",
          "text": [
            "Accuraccy Score:  0.5942028985507246\n",
            "Precision Score:  0.38930591684214877\n",
            "Recall Score:  0.38306938159879333\n",
            "F1 Score:  0.3830162613341241\n"
          ]
        }
      ],
      "source": [
        "pipeline = Pipeline([\n",
        "    ('scaler', RobustScaler()),\n",
        "    ('xgb', XGBClassifier())\n",
        "])\n",
        "pipeline.fit(X_train, y_train)\n",
        "predictions = pipeline.predict(X_test)\n",
        "calculate_metrics_clasification(y_test, predictions)"
      ]
    },
    {
      "cell_type": "markdown",
      "metadata": {
        "id": "dP9hdZCwE7CD"
      },
      "source": [
        "#### Decision Tree Classifier (DT)"
      ]
    },
    {
      "cell_type": "code",
      "execution_count": null,
      "metadata": {
        "colab": {
          "base_uri": "https://localhost:8080/"
        },
        "id": "skdcdPrTE7HD",
        "outputId": "d53850ee-f2a6-48a1-8009-37e08750c3b7"
      },
      "outputs": [
        {
          "name": "stdout",
          "output_type": "stream",
          "text": [
            "Accuraccy Score:  0.5181159420289855\n",
            "Precision Score:  0.33181958962446767\n",
            "Recall Score:  0.3312066365007541\n",
            "F1 Score:  0.3299750146972369\n"
          ]
        }
      ],
      "source": [
        "pipeline = Pipeline([\n",
        "    ('scaler', RobustScaler()),\n",
        "    ('dt', DecisionTreeClassifier())\n",
        "])\n",
        "pipeline.fit(X_train, y_train)\n",
        "predictions = pipeline.predict(X_test)\n",
        "calculate_metrics_clasification(y_test, predictions)"
      ]
    },
    {
      "cell_type": "markdown",
      "metadata": {
        "id": "b8XPg-fyim9r"
      },
      "source": [
        "#### Random Forest Classifier (RF)"
      ]
    },
    {
      "cell_type": "code",
      "execution_count": null,
      "metadata": {
        "colab": {
          "base_uri": "https://localhost:8080/"
        },
        "id": "N1L6Y4N3inCn",
        "outputId": "bcb40df1-7c70-46e1-8def-8d9acc32821d"
      },
      "outputs": [
        {
          "name": "stdout",
          "output_type": "stream",
          "text": [
            "Accuraccy Score:  0.5543478260869565\n",
            "Precision Score:  0.43158421423537696\n",
            "Recall Score:  0.35328557063851185\n",
            "F1 Score:  0.36038337452971597\n"
          ]
        }
      ],
      "source": [
        "pipeline = Pipeline([\n",
        "    ('scaler', RobustScaler()),\n",
        "    ('rf', RandomForestClassifier())\n",
        "])\n",
        "pipeline.fit(X_train, y_train)\n",
        "predictions = pipeline.predict(X_test)\n",
        "calculate_metrics_clasification(y_test, predictions)"
      ]
    },
    {
      "cell_type": "markdown",
      "metadata": {
        "id": "KipVk3B2inHX"
      },
      "source": [
        "#### Gradient Boost (GB)"
      ]
    },
    {
      "cell_type": "code",
      "execution_count": null,
      "metadata": {
        "colab": {
          "base_uri": "https://localhost:8080/"
        },
        "id": "0RlI8NI4inM_",
        "outputId": "199069e0-d69e-46fa-802a-727ecc367a66"
      },
      "outputs": [
        {
          "name": "stdout",
          "output_type": "stream",
          "text": [
            "Accuraccy Score:  0.5797101449275363\n",
            "Precision Score:  0.4187478934951129\n",
            "Recall Score:  0.3868451483157366\n",
            "F1 Score:  0.39397369948037897\n"
          ]
        }
      ],
      "source": [
        "pipeline = Pipeline([\n",
        "    ('scaler', RobustScaler()),\n",
        "    ('gb', GradientBoostingClassifier())\n",
        "])\n",
        "pipeline.fit(X_train, y_train)\n",
        "predictions = pipeline.predict(X_test)\n",
        "calculate_metrics_clasification(y_test, predictions)"
      ]
    },
    {
      "cell_type": "markdown",
      "metadata": {
        "id": "wviNevuJinTP"
      },
      "source": [
        "#### AdaBoost (AB)"
      ]
    },
    {
      "cell_type": "code",
      "execution_count": null,
      "metadata": {
        "colab": {
          "base_uri": "https://localhost:8080/"
        },
        "id": "9W-2OYtYinfC",
        "outputId": "048cbfa9-383d-4089-81b6-ade4d123d02e"
      },
      "outputs": [
        {
          "name": "stdout",
          "output_type": "stream",
          "text": [
            "Accuraccy Score:  0.5036231884057971\n",
            "Precision Score:  0.31895926777793854\n",
            "Recall Score:  0.3194268476621418\n",
            "F1 Score:  0.3168689712502942\n"
          ]
        }
      ],
      "source": [
        "pipeline = Pipeline([\n",
        "    ('scaler', RobustScaler()),\n",
        "    ('ab', AdaBoostClassifier())\n",
        "])\n",
        "pipeline.fit(X_train, y_train)\n",
        "predictions = pipeline.predict(X_test)\n",
        "calculate_metrics_clasification(y_test, predictions)"
      ]
    },
    {
      "cell_type": "markdown",
      "metadata": {
        "id": "aLiDWWHjt_QL"
      },
      "source": [
        "#### Extra Tree classifier (ET)"
      ]
    },
    {
      "cell_type": "code",
      "execution_count": null,
      "metadata": {
        "colab": {
          "base_uri": "https://localhost:8080/"
        },
        "id": "JKFcvoWDt_Vp",
        "outputId": "80369f5a-1e2e-4468-e649-d1c74c3a474b"
      },
      "outputs": [
        {
          "name": "stdout",
          "output_type": "stream",
          "text": [
            "Accuraccy Score:  0.5579710144927537\n",
            "Precision Score:  0.3788591406884177\n",
            "Recall Score:  0.3603092006033183\n",
            "F1 Score:  0.3617704003574135\n"
          ]
        }
      ],
      "source": [
        "pipeline = Pipeline([\n",
        "    ('scaler', RobustScaler()),\n",
        "    ('et', ExtraTreesClassifier())\n",
        "])\n",
        "pipeline.fit(X_train, y_train)\n",
        "predictions = pipeline.predict(X_test)\n",
        "calculate_metrics_clasification(y_test, predictions)"
      ]
    },
    {
      "cell_type": "markdown",
      "metadata": {
        "id": "1zlcSDQiLv3-"
      },
      "source": [
        "### Quantile Transformer (QT):"
      ]
    },
    {
      "cell_type": "code",
      "execution_count": null,
      "metadata": {
        "id": "j7IXaLf9ME9q"
      },
      "outputs": [],
      "source": [
        "from sklearn.preprocessing import QuantileTransformer"
      ]
    },
    {
      "cell_type": "markdown",
      "metadata": {
        "id": "qnXZNMuJuWcc"
      },
      "source": [
        "\n",
        "#### Logistic Regression:"
      ]
    },
    {
      "cell_type": "code",
      "execution_count": null,
      "metadata": {
        "colab": {
          "base_uri": "https://localhost:8080/"
        },
        "id": "t0BhRLUhuWi9",
        "outputId": "6efa50e4-56d1-412f-e296-67dc542758e9"
      },
      "outputs": [
        {
          "name": "stdout",
          "output_type": "stream",
          "text": [
            "Accuraccy Score:  0.572463768115942\n",
            "Precision Score:  0.3459714669566886\n",
            "Recall Score:  0.34236299648064356\n",
            "F1 Score:  0.3303353640503933\n"
          ]
        },
        {
          "name": "stderr",
          "output_type": "stream",
          "text": [
            "/usr/local/lib/python3.10/dist-packages/sklearn/preprocessing/_data.py:2627: UserWarning: n_quantiles (1000) is greater than the total number of samples (644). n_quantiles is set to n_samples.\n",
            "  warnings.warn(\n",
            "/usr/local/lib/python3.10/dist-packages/sklearn/linear_model/_logistic.py:458: ConvergenceWarning: lbfgs failed to converge (status=1):\n",
            "STOP: TOTAL NO. of ITERATIONS REACHED LIMIT.\n",
            "\n",
            "Increase the number of iterations (max_iter) or scale the data as shown in:\n",
            "    https://scikit-learn.org/stable/modules/preprocessing.html\n",
            "Please also refer to the documentation for alternative solver options:\n",
            "    https://scikit-learn.org/stable/modules/linear_model.html#logistic-regression\n",
            "  n_iter_i = _check_optimize_result(\n"
          ]
        }
      ],
      "source": [
        "pipeline = Pipeline([\n",
        "    ('scaler', QuantileTransformer()),\n",
        "    ('log_reg', LogisticRegression())\n",
        "])\n",
        "\n",
        "pipeline.fit(X_train, y_train)\n",
        "predictions = pipeline.predict(X_test)\n",
        "calculate_metrics_clasification(y_test, predictions)"
      ]
    },
    {
      "cell_type": "markdown",
      "metadata": {
        "id": "RYCJENRNuWpz"
      },
      "source": [
        "#### Linear Discriminant Analysis (LDA)"
      ]
    },
    {
      "cell_type": "code",
      "execution_count": null,
      "metadata": {
        "colab": {
          "base_uri": "https://localhost:8080/"
        },
        "id": "alHDEZ2WuWwi",
        "outputId": "1f7cd212-4937-496a-b5c4-745aa6b6d3b5"
      },
      "outputs": [
        {
          "name": "stderr",
          "output_type": "stream",
          "text": [
            "/usr/local/lib/python3.10/dist-packages/sklearn/preprocessing/_data.py:2627: UserWarning: n_quantiles (1000) is greater than the total number of samples (644). n_quantiles is set to n_samples.\n",
            "  warnings.warn(\n"
          ]
        },
        {
          "name": "stdout",
          "output_type": "stream",
          "text": [
            "Accuraccy Score:  0.5543478260869565\n",
            "Precision Score:  0.3331149188490195\n",
            "Recall Score:  0.341480643539467\n",
            "F1 Score:  0.3268541806471111\n"
          ]
        }
      ],
      "source": [
        "pipeline = Pipeline([\n",
        "    ('scaler', QuantileTransformer()),\n",
        "    ('lda', LinearDiscriminantAnalysis())\n",
        "])\n",
        "pipeline.fit(X_train, y_train)\n",
        "predictions = pipeline.predict(X_test)\n",
        "calculate_metrics_clasification(y_test, predictions)"
      ]
    },
    {
      "cell_type": "markdown",
      "metadata": {
        "id": "wMd_IcSGtpcw"
      },
      "source": [
        "#### K-Nearest Neighbors (KNN):"
      ]
    },
    {
      "cell_type": "code",
      "execution_count": null,
      "metadata": {
        "colab": {
          "base_uri": "https://localhost:8080/"
        },
        "id": "Vg04IWdhtpj1",
        "outputId": "1b2bfe88-26b3-42be-c685-295c3effc61a"
      },
      "outputs": [
        {
          "name": "stdout",
          "output_type": "stream",
          "text": [
            "Accuraccy Score:  0.5905797101449275\n",
            "Precision Score:  0.3892589250465287\n",
            "Recall Score:  0.37153092006033184\n",
            "F1 Score:  0.3704272312134819\n"
          ]
        },
        {
          "name": "stderr",
          "output_type": "stream",
          "text": [
            "/usr/local/lib/python3.10/dist-packages/sklearn/preprocessing/_data.py:2627: UserWarning: n_quantiles (1000) is greater than the total number of samples (644). n_quantiles is set to n_samples.\n",
            "  warnings.warn(\n"
          ]
        }
      ],
      "source": [
        "pipeline = Pipeline([\n",
        "    ('scaler', QuantileTransformer()),\n",
        "    ('knn', KNeighborsClassifier())\n",
        "])\n",
        "pipeline.fit(X_train, y_train)\n",
        "predictions = pipeline.predict(X_test)\n",
        "calculate_metrics_clasification(y_test, predictions)"
      ]
    },
    {
      "cell_type": "markdown",
      "metadata": {
        "id": "OuRyAgsGt6kY"
      },
      "source": [
        "#### Naïve Bayes (NB)"
      ]
    },
    {
      "cell_type": "code",
      "execution_count": null,
      "metadata": {
        "colab": {
          "base_uri": "https://localhost:8080/"
        },
        "id": "u8mR_04dt6pw",
        "outputId": "ae2c42fd-2357-42d4-fe78-8c9718d244a7"
      },
      "outputs": [
        {
          "name": "stdout",
          "output_type": "stream",
          "text": [
            "Accuraccy Score:  0.5362318840579711\n",
            "Precision Score:  0.3071501831501831\n",
            "Recall Score:  0.3119356460532931\n",
            "F1 Score:  0.30271913228492964\n"
          ]
        },
        {
          "name": "stderr",
          "output_type": "stream",
          "text": [
            "/usr/local/lib/python3.10/dist-packages/sklearn/preprocessing/_data.py:2627: UserWarning: n_quantiles (1000) is greater than the total number of samples (644). n_quantiles is set to n_samples.\n",
            "  warnings.warn(\n"
          ]
        }
      ],
      "source": [
        "pipeline = Pipeline([\n",
        "    ('scaler', QuantileTransformer()),\n",
        "    ('nb', GaussianNB())\n",
        "])\n",
        "pipeline.fit(X_train, y_train)\n",
        "predictions = pipeline.predict(X_test)\n",
        "calculate_metrics_clasification(y_test, predictions)"
      ]
    },
    {
      "cell_type": "markdown",
      "metadata": {
        "id": "AgXGjXLZt6wi"
      },
      "source": [
        "#### Support Vector Machine (SVM)"
      ]
    },
    {
      "cell_type": "code",
      "execution_count": null,
      "metadata": {
        "colab": {
          "base_uri": "https://localhost:8080/"
        },
        "id": "AON3bFEVt61v",
        "outputId": "9944a07d-56a5-4beb-fcec-58bcdbb81cf7"
      },
      "outputs": [
        {
          "name": "stdout",
          "output_type": "stream",
          "text": [
            "Accuraccy Score:  0.5507246376811594\n",
            "Precision Score:  0.30755640922810645\n",
            "Recall Score:  0.31495726495726495\n",
            "F1 Score:  0.2888474986859246\n"
          ]
        },
        {
          "name": "stderr",
          "output_type": "stream",
          "text": [
            "/usr/local/lib/python3.10/dist-packages/sklearn/preprocessing/_data.py:2627: UserWarning: n_quantiles (1000) is greater than the total number of samples (644). n_quantiles is set to n_samples.\n",
            "  warnings.warn(\n",
            "/usr/local/lib/python3.10/dist-packages/sklearn/metrics/_classification.py:1344: UndefinedMetricWarning: Precision is ill-defined and being set to 0.0 in labels with no predicted samples. Use `zero_division` parameter to control this behavior.\n",
            "  _warn_prf(average, modifier, msg_start, len(result))\n"
          ]
        }
      ],
      "source": [
        "pipeline = Pipeline([\n",
        "    ('scaler', QuantileTransformer()),\n",
        "    ('svc', SVC())\n",
        "])\n",
        "pipeline.fit(X_train, y_train)\n",
        "predictions = pipeline.predict(X_test)\n",
        "calculate_metrics_clasification(y_test, predictions)"
      ]
    },
    {
      "cell_type": "markdown",
      "metadata": {
        "id": "2SUGrW50tptm"
      },
      "source": [
        "#### XGBoost Algorithm (XGB)"
      ]
    },
    {
      "cell_type": "code",
      "execution_count": null,
      "metadata": {
        "colab": {
          "base_uri": "https://localhost:8080/"
        },
        "id": "yJSul6tQtpz9",
        "outputId": "eef490dd-a4c9-4bf7-9df0-cead88efcc8d"
      },
      "outputs": [
        {
          "name": "stderr",
          "output_type": "stream",
          "text": [
            "/usr/local/lib/python3.10/dist-packages/sklearn/preprocessing/_data.py:2627: UserWarning: n_quantiles (1000) is greater than the total number of samples (644). n_quantiles is set to n_samples.\n",
            "  warnings.warn(\n"
          ]
        },
        {
          "name": "stdout",
          "output_type": "stream",
          "text": [
            "Accuraccy Score:  0.5797101449275363\n",
            "Precision Score:  0.37099988413857027\n",
            "Recall Score:  0.3589969834087481\n",
            "F1 Score:  0.3570091271465208\n"
          ]
        }
      ],
      "source": [
        "pipeline = Pipeline([\n",
        "    ('scaler', QuantileTransformer()),\n",
        "    ('xgb', XGBClassifier())\n",
        "])\n",
        "pipeline.fit(X_train, y_train)\n",
        "predictions = pipeline.predict(X_test)\n",
        "calculate_metrics_clasification(y_test, predictions)"
      ]
    },
    {
      "cell_type": "markdown",
      "metadata": {
        "id": "tjqY4V2Utp61"
      },
      "source": [
        "#### Decision Tree Classifier (DT)"
      ]
    },
    {
      "cell_type": "code",
      "execution_count": null,
      "metadata": {
        "colab": {
          "base_uri": "https://localhost:8080/"
        },
        "id": "VOyuFp1utqBj",
        "outputId": "2373c953-c1a4-47c2-c732-b2f7f24f23c7"
      },
      "outputs": [
        {
          "name": "stdout",
          "output_type": "stream",
          "text": [
            "Accuraccy Score:  0.5144927536231884\n",
            "Precision Score:  0.36175097367832726\n",
            "Recall Score:  0.35681749622926096\n",
            "F1 Score:  0.35771487966223975\n"
          ]
        },
        {
          "name": "stderr",
          "output_type": "stream",
          "text": [
            "/usr/local/lib/python3.10/dist-packages/sklearn/preprocessing/_data.py:2627: UserWarning: n_quantiles (1000) is greater than the total number of samples (644). n_quantiles is set to n_samples.\n",
            "  warnings.warn(\n"
          ]
        }
      ],
      "source": [
        "pipeline = Pipeline([\n",
        "    ('scaler', QuantileTransformer()),\n",
        "    ('dt', DecisionTreeClassifier())\n",
        "])\n",
        "pipeline.fit(X_train, y_train)\n",
        "predictions = pipeline.predict(X_test)\n",
        "calculate_metrics_clasification(y_test, predictions)"
      ]
    },
    {
      "cell_type": "markdown",
      "metadata": {
        "id": "t92i0ugBtqMo"
      },
      "source": [
        "#### Random Forest Classifier (RF)"
      ]
    },
    {
      "cell_type": "code",
      "execution_count": null,
      "metadata": {
        "colab": {
          "base_uri": "https://localhost:8080/"
        },
        "id": "QLEXBpAptqT9",
        "outputId": "14c76f19-fa2b-4c5a-e1e6-564478012d96"
      },
      "outputs": [
        {
          "name": "stderr",
          "output_type": "stream",
          "text": [
            "/usr/local/lib/python3.10/dist-packages/sklearn/preprocessing/_data.py:2627: UserWarning: n_quantiles (1000) is greater than the total number of samples (644). n_quantiles is set to n_samples.\n",
            "  warnings.warn(\n"
          ]
        },
        {
          "name": "stdout",
          "output_type": "stream",
          "text": [
            "Accuraccy Score:  0.5797101449275363\n",
            "Precision Score:  0.3751347053745854\n",
            "Recall Score:  0.36076420311714424\n",
            "F1 Score:  0.3585770856420195\n"
          ]
        }
      ],
      "source": [
        "pipeline = Pipeline([\n",
        "    ('scaler', QuantileTransformer()),\n",
        "    ('rf', RandomForestClassifier())\n",
        "])\n",
        "pipeline.fit(X_train, y_train)\n",
        "predictions = pipeline.predict(X_test)\n",
        "calculate_metrics_clasification(y_test, predictions)"
      ]
    },
    {
      "cell_type": "markdown",
      "metadata": {
        "id": "PLfcIVIREwkN"
      },
      "source": [
        "#### Gradient Boost (GB)"
      ]
    },
    {
      "cell_type": "code",
      "execution_count": null,
      "metadata": {
        "colab": {
          "base_uri": "https://localhost:8080/"
        },
        "id": "H8Y0UKncEwu8",
        "outputId": "9316065a-0f11-4ca8-b3e2-4e3adff756c7"
      },
      "outputs": [
        {
          "name": "stderr",
          "output_type": "stream",
          "text": [
            "/usr/local/lib/python3.10/dist-packages/sklearn/preprocessing/_data.py:2627: UserWarning: n_quantiles (1000) is greater than the total number of samples (644). n_quantiles is set to n_samples.\n",
            "  warnings.warn(\n"
          ]
        },
        {
          "name": "stdout",
          "output_type": "stream",
          "text": [
            "Accuraccy Score:  0.5760869565217391\n",
            "Precision Score:  0.3579352346999406\n",
            "Recall Score:  0.3501231774761186\n",
            "F1 Score:  0.34411389673571874\n"
          ]
        }
      ],
      "source": [
        "pipeline = Pipeline([\n",
        "    ('scaler', QuantileTransformer()),\n",
        "    ('gb', GradientBoostingClassifier())\n",
        "])\n",
        "pipeline.fit(X_train, y_train)\n",
        "predictions = pipeline.predict(X_test)\n",
        "calculate_metrics_clasification(y_test, predictions)"
      ]
    },
    {
      "cell_type": "markdown",
      "metadata": {
        "id": "AqURHLVHEw8t"
      },
      "source": [
        "#### AdaBoost (AB)"
      ]
    },
    {
      "cell_type": "code",
      "execution_count": null,
      "metadata": {
        "colab": {
          "base_uri": "https://localhost:8080/"
        },
        "id": "y44bVNX9ExEC",
        "outputId": "41f480f9-26aa-411a-812e-1192d7e22c9f"
      },
      "outputs": [
        {
          "name": "stderr",
          "output_type": "stream",
          "text": [
            "/usr/local/lib/python3.10/dist-packages/sklearn/preprocessing/_data.py:2627: UserWarning: n_quantiles (1000) is greater than the total number of samples (644). n_quantiles is set to n_samples.\n",
            "  warnings.warn(\n"
          ]
        },
        {
          "name": "stdout",
          "output_type": "stream",
          "text": [
            "Accuraccy Score:  0.5108695652173914\n",
            "Precision Score:  0.31435608902225554\n",
            "Recall Score:  0.31384112619406734\n",
            "F1 Score:  0.31084624913825265\n"
          ]
        }
      ],
      "source": [
        "pipeline = Pipeline([\n",
        "    ('scaler', QuantileTransformer()),\n",
        "    ('ab', AdaBoostClassifier())\n",
        "])\n",
        "pipeline.fit(X_train, y_train)\n",
        "predictions = pipeline.predict(X_test)\n",
        "calculate_metrics_clasification(y_test, predictions)"
      ]
    },
    {
      "cell_type": "markdown",
      "metadata": {
        "id": "uaV5cJZwExMa"
      },
      "source": [
        "#### Extra Tree classifier (ET)"
      ]
    },
    {
      "cell_type": "code",
      "execution_count": null,
      "metadata": {
        "colab": {
          "base_uri": "https://localhost:8080/"
        },
        "id": "R5dj0RO-ExUa",
        "outputId": "bf32b84b-7d19-442d-bd78-0e6826bb3ea1"
      },
      "outputs": [
        {
          "name": "stderr",
          "output_type": "stream",
          "text": [
            "/usr/local/lib/python3.10/dist-packages/sklearn/preprocessing/_data.py:2627: UserWarning: n_quantiles (1000) is greater than the total number of samples (644). n_quantiles is set to n_samples.\n",
            "  warnings.warn(\n"
          ]
        },
        {
          "name": "stdout",
          "output_type": "stream",
          "text": [
            "Accuraccy Score:  0.5398550724637681\n",
            "Precision Score:  0.3096048713341414\n",
            "Recall Score:  0.3180894922071392\n",
            "F1 Score:  0.3096737366903558\n"
          ]
        }
      ],
      "source": [
        "pipeline = Pipeline([\n",
        "    ('scaler', QuantileTransformer()),\n",
        "    ('et', ExtraTreesClassifier())\n",
        "])\n",
        "pipeline.fit(X_train, y_train)\n",
        "predictions = pipeline.predict(X_test)\n",
        "calculate_metrics_clasification(y_test, predictions)"
      ]
    },
    {
      "cell_type": "markdown",
      "metadata": {
        "id": "PZs9ltppXxbb"
      },
      "source": [
        "# References:\n",
        "\n",
        "\n",
        "*   Ahsan, M. M., Mahmud, M. P., Saha, P. K., Gupta, K. D., & Siddique, Z. (2021). Effect of data scaling methods on machine learning algorithms and model performance. Technologies, 9(3), 52.\n",
        "\n",
        "*   Burkardt, J. (2014). The truncated normal distribution. Department of Scientific Computing Website, Florida State University, 1(35), 58.\n",
        "\n",
        "*   Flegel, S. K., & Bennett, J. C. (2020). State Uncertainty Normality Detection: Introducing an Unscented Transform-Based Test. The Journal of the Astronautical Sciences, 67(3), 1044-1062.\n",
        "\n",
        "*   Austin, P. C., White, I. R., Lee, D. S., & van Buuren, S. (2021). Missing data in clinical research: a tutorial on multiple imputation. Canadian Journal of Cardiology, 37(9), 1322-1331.\n",
        "\n",
        "\n",
        "*   Tanner, M. A., & Wong, W. H. (1987). The calculation of posterior distributions by data augmentation. Journal of the American statistical Association, 82(398), 528-540.\n",
        "\n",
        "*   Van Buuren, S., & Oudshoorn, C. G. (2000). Multivariate imputation by chained equations.\n",
        "\n",
        "*   Rubin, L. H., Witkiewitz, K., Andre, J. S., & Reilly, S. (2007). Methods for handling missing data in the behavioral neurosciences: Don’t throw the baby rat out with the bath water. Journal of Undergraduate Neuroscience Education, 5(2), A71.\n",
        "\n",
        "*   Solutions, S. (2020). Handling Missing Data: Listwise Versus Pairwise Deletion.\n",
        "\n",
        "\n",
        "*   Scheffer, J. (2002). Dealing with missing data.\n",
        "\n",
        "*   Little, R. J., & Rubin, D. B. (1989). The analysis of social science data with missing values. Sociological methods & research, 18(2-3), 292-326.\n",
        "\n",
        "\n",
        "*   Liao, S. G., Lin, Y., Kang, D. D., Chandra, D., Bon, J., Kaminski, N., ... & Tseng, G. C. (2014). Missing value imputation in high-dimensional phenomic data: imputable or not, and how?. BMC bioinformatics, 15, 1-12.\n",
        "\n",
        "*   García-Laencina, P. J., Sancho-Gómez, J. L., Figueiras-Vidal, A. R., & Verleysen, M. (2008). K-nearest neighbours based on mutual information for incomplete data classification. In ESANN (pp. 37-42).\n",
        "\n",
        "*   Ismail, A. R., Abidin, N. Z., & Maen, M. K. (2022). Systematic review on missing data imputation techniques with machine learning algorithms for healthcare. Journal of Robotics and Control (JRC), 3(2), 143-152.\n",
        "\n",
        "*   Chandola, V., Banerjee, A., & Kumar, V. (2009). Anomaly detection: A survey. ACM computing surveys (CSUR), 41(3), 1-58.\n",
        "\n",
        "*   Al Farizi, W. S., Hidayah, I., & Rizal, M. N. (2021, September). Isolation forest based anomaly detection: A systematic literature review. In 2021 8th International Conference on Information Technology, Computer and Electrical Engineering (ICITACEE) (pp. 118-122). IEEE.\n",
        "\n",
        "\n",
        "*   Liu, F. T., Ting, K. M., & Zhou, Z. H. (2008, December). Isolation forest. In 2008 eighth ieee international conference on data mining (pp. 413-422). IEEE.\n",
        "\n",
        "*   Chabchoub, Y., Togbe, M. U., Boly, A., & Chiky, R. (2022). An in-depth study and improvement of Isolation Forest. IEEE Access, 10, 10219-10237."
      ]
    }
  ],
  "metadata": {
    "colab": {
      "collapsed_sections": [
        "6TTSfF9alnXG",
        "fNC3LlqClw1S",
        "Dr0qgvmWPRPu",
        "LQ8oTHtcgJvA",
        "dMBijkvwJ37Y",
        "1BB0caPmLLtX"
      ],
      "provenance": []
    },
    "kernelspec": {
      "display_name": "Python 3",
      "name": "python3"
    },
    "language_info": {
      "name": "python"
    }
  },
  "nbformat": 4,
  "nbformat_minor": 0
}
